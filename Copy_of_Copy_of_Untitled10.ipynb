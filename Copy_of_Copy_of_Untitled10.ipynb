{
  "nbformat": 4,
  "nbformat_minor": 0,
  "metadata": {
    "colab": {
      "name": "Copy of Copy of Untitled10.ipynb",
      "provenance": [],
      "collapsed_sections": [
        "4y24iPuAw2KG",
        "ReqmJRGvxChy",
        "nfoqweTsxMkd",
        "PZLKE1UTxSv0"
      ]
    },
    "kernelspec": {
      "name": "python3",
      "display_name": "Python 3"
    }
  },
  "cells": [
    {
      "cell_type": "markdown",
      "metadata": {
        "id": "MnwD30Zsrt4O",
        "colab_type": "text"
      },
      "source": [
        "# Defining the Question"
      ]
    },
    {
      "cell_type": "markdown",
      "metadata": {
        "id": "DOz-V65Jx84c",
        "colab_type": "text"
      },
      "source": [
        "## a). Specifying the Question"
      ]
    },
    {
      "cell_type": "markdown",
      "metadata": {
        "id": "2kE7yxW6yadP",
        "colab_type": "text"
      },
      "source": [
        "\n",
        "\n",
        "> Mchezapoa Ltd have hired me as a football analyst. They want me to predict the number of goals scored by home teams and away teams. Specifically they'd want a prediction of the home team and away team goals. I'll also figure out the home team's perspective of a win, lose or draw.\n",
        "\n",
        "\n",
        "\n"
      ]
    },
    {
      "cell_type": "markdown",
      "metadata": {
        "id": "tCj8OrX6rzPK",
        "colab_type": "text"
      },
      "source": [
        "## b). Defining the metric for success"
      ]
    },
    {
      "cell_type": "markdown",
      "metadata": {
        "id": "tkEvloFXz3P7",
        "colab_type": "text"
      },
      "source": [
        "\n",
        "\n",
        "> The research will be viewed successful if the model could make a prediction of at least 80%\n",
        "\n"
      ]
    },
    {
      "cell_type": "markdown",
      "metadata": {
        "id": "EkNAqHKUr3v1",
        "colab_type": "text"
      },
      "source": [
        "## c). Understanding the Context"
      ]
    },
    {
      "cell_type": "markdown",
      "metadata": {
        "id": "ET2MF0dQ0Byf",
        "colab_type": "text"
      },
      "source": [
        "\n",
        "\n",
        "> The men's FIFA World Ranking is a ranking system for men's national teams in association football. The research consists of 2 datasets; a ranking dataset and a results one.\n",
        "\n",
        "> Ranking has been changing over the years. The current method of calculation is the Elo method\n",
        "\n",
        "\n",
        "> The Elo method of calculation adds/subtracts points (as opposed to averaging points) for individual matches to/from a team’s existing point total. The points which are added or subtracted are partially determined by the relative strength of the two opponents, including the logical expectation that teams\n",
        "higher in the ranking should fare better against teams lower in the ranking.\n",
        "\n",
        "\n",
        "> The study is meant to predict the number of scores made by both the away team and home teams.\n",
        "\n",
        "\n",
        "\n",
        "\n",
        "\n"
      ]
    },
    {
      "cell_type": "markdown",
      "metadata": {
        "id": "MnPllaQvr8Ef",
        "colab_type": "text"
      },
      "source": [
        "## d). Recording the Experimental Design"
      ]
    },
    {
      "cell_type": "markdown",
      "metadata": {
        "id": "65TDTxbqPpz2",
        "colab_type": "text"
      },
      "source": [
        "\n",
        "\n",
        "> Indented block\n",
        "Below are the steps that will be conducted in this analysis in order to fulfill the project goal satisfactorily:\n",
        " Load data and preview preliminary characteristics of the dataset\n",
        "\n",
        "1.   Data cleaning \n",
        "\n",
        "2.   Perform univariate and bivariate analysis\n",
        "\n",
        "3.   Modelling (checking multicollinearity, cross validation, RMSE, Assessing heteroscedasticity)\n",
        "\n",
        "4. Making predictions\n",
        "\n"
      ]
    },
    {
      "cell_type": "markdown",
      "metadata": {
        "id": "GDtimfOKsGN5",
        "colab_type": "text"
      },
      "source": [
        "# Reading the Data"
      ]
    },
    {
      "cell_type": "markdown",
      "metadata": {
        "id": "V6yuBEVMQXKe",
        "colab_type": "text"
      },
      "source": [
        "We have 2 sets of data provided by Mchezopesa Ltd. The first one is fifa ranking and the other one is a results dataset."
      ]
    },
    {
      "cell_type": "code",
      "metadata": {
        "id": "kUSZi-ylSnQO",
        "colab_type": "code",
        "colab": {}
      },
      "source": [
        "#Importing the libraries to be used\n",
        "import pandas as pd\n",
        "import numpy as np\n",
        "import matplotlib.pyplot as plt \n",
        "import seaborn as sns\n",
        "import matplotlib as mpl                        \n",
        "                \n",
        "import itertools\n",
        "import datetime as dt                           \n",
        "from scipy import stats  \n",
        "\n",
        "from IPython.display import display             \n",
        "import warnings                                 \n",
        "warnings.filterwarnings('ignore') \n",
        "import os                                       \n",
        "import gc"
      ],
      "execution_count": 313,
      "outputs": []
    },
    {
      "cell_type": "code",
      "metadata": {
        "id": "IHz98wD_UYvy",
        "colab_type": "code",
        "colab": {}
      },
      "source": [
        "#Reading the data\n",
        "fifa_ranking = pd.read_csv(\"/content/fifa_ranking.csv\")\n",
        "results = pd.read_csv(\"/content/results.csv\")"
      ],
      "execution_count": 314,
      "outputs": []
    },
    {
      "cell_type": "markdown",
      "metadata": {
        "id": "7NXiakMtdOkM",
        "colab_type": "text"
      },
      "source": [
        "# Checking the Data"
      ]
    },
    {
      "cell_type": "code",
      "metadata": {
        "id": "6htCDb-cZDKC",
        "colab_type": "code",
        "colab": {
          "base_uri": "https://localhost:8080/",
          "height": 50
        },
        "outputId": "5c4d1c4e-eda4-45c7-d608-48e2b768ada0"
      },
      "source": [
        "#We'll check the shape of the 2 datasets\n",
        "print('fifa_ranking shape: {} Rows, {} Columns'.format(*fifa_ranking.shape))\n",
        "print('results shape: {} Rows, {} Columns'.format(*results.shape))"
      ],
      "execution_count": 315,
      "outputs": [
        {
          "output_type": "stream",
          "text": [
            "fifa_ranking shape: 57793 Rows, 16 Columns\n",
            "results shape: 40839 Rows, 9 Columns\n"
          ],
          "name": "stdout"
        }
      ]
    },
    {
      "cell_type": "code",
      "metadata": {
        "id": "Y_mZr14HdUFE",
        "colab_type": "code",
        "colab": {
          "base_uri": "https://localhost:8080/",
          "height": 299
        },
        "outputId": "cbc1efbe-ffc2-42d4-ebf5-729b1f4cddc6"
      },
      "source": [
        "#Previewing the head of the fifa ranking dataset\n",
        "fifa_ranking.head()"
      ],
      "execution_count": 316,
      "outputs": [
        {
          "output_type": "execute_result",
          "data": {
            "text/html": [
              "<div>\n",
              "<style scoped>\n",
              "    .dataframe tbody tr th:only-of-type {\n",
              "        vertical-align: middle;\n",
              "    }\n",
              "\n",
              "    .dataframe tbody tr th {\n",
              "        vertical-align: top;\n",
              "    }\n",
              "\n",
              "    .dataframe thead th {\n",
              "        text-align: right;\n",
              "    }\n",
              "</style>\n",
              "<table border=\"1\" class=\"dataframe\">\n",
              "  <thead>\n",
              "    <tr style=\"text-align: right;\">\n",
              "      <th></th>\n",
              "      <th>rank</th>\n",
              "      <th>country_full</th>\n",
              "      <th>country_abrv</th>\n",
              "      <th>total_points</th>\n",
              "      <th>previous_points</th>\n",
              "      <th>rank_change</th>\n",
              "      <th>cur_year_avg</th>\n",
              "      <th>cur_year_avg_weighted</th>\n",
              "      <th>last_year_avg</th>\n",
              "      <th>last_year_avg_weighted</th>\n",
              "      <th>two_year_ago_avg</th>\n",
              "      <th>two_year_ago_weighted</th>\n",
              "      <th>three_year_ago_avg</th>\n",
              "      <th>three_year_ago_weighted</th>\n",
              "      <th>confederation</th>\n",
              "      <th>rank_date</th>\n",
              "    </tr>\n",
              "  </thead>\n",
              "  <tbody>\n",
              "    <tr>\n",
              "      <th>0</th>\n",
              "      <td>1</td>\n",
              "      <td>Germany</td>\n",
              "      <td>GER</td>\n",
              "      <td>0.0</td>\n",
              "      <td>57</td>\n",
              "      <td>0</td>\n",
              "      <td>0.0</td>\n",
              "      <td>0.0</td>\n",
              "      <td>0.0</td>\n",
              "      <td>0.0</td>\n",
              "      <td>0.0</td>\n",
              "      <td>0.0</td>\n",
              "      <td>0.0</td>\n",
              "      <td>0.0</td>\n",
              "      <td>UEFA</td>\n",
              "      <td>1993-08-08</td>\n",
              "    </tr>\n",
              "    <tr>\n",
              "      <th>1</th>\n",
              "      <td>2</td>\n",
              "      <td>Italy</td>\n",
              "      <td>ITA</td>\n",
              "      <td>0.0</td>\n",
              "      <td>57</td>\n",
              "      <td>0</td>\n",
              "      <td>0.0</td>\n",
              "      <td>0.0</td>\n",
              "      <td>0.0</td>\n",
              "      <td>0.0</td>\n",
              "      <td>0.0</td>\n",
              "      <td>0.0</td>\n",
              "      <td>0.0</td>\n",
              "      <td>0.0</td>\n",
              "      <td>UEFA</td>\n",
              "      <td>1993-08-08</td>\n",
              "    </tr>\n",
              "    <tr>\n",
              "      <th>2</th>\n",
              "      <td>3</td>\n",
              "      <td>Switzerland</td>\n",
              "      <td>SUI</td>\n",
              "      <td>0.0</td>\n",
              "      <td>50</td>\n",
              "      <td>9</td>\n",
              "      <td>0.0</td>\n",
              "      <td>0.0</td>\n",
              "      <td>0.0</td>\n",
              "      <td>0.0</td>\n",
              "      <td>0.0</td>\n",
              "      <td>0.0</td>\n",
              "      <td>0.0</td>\n",
              "      <td>0.0</td>\n",
              "      <td>UEFA</td>\n",
              "      <td>1993-08-08</td>\n",
              "    </tr>\n",
              "    <tr>\n",
              "      <th>3</th>\n",
              "      <td>4</td>\n",
              "      <td>Sweden</td>\n",
              "      <td>SWE</td>\n",
              "      <td>0.0</td>\n",
              "      <td>55</td>\n",
              "      <td>0</td>\n",
              "      <td>0.0</td>\n",
              "      <td>0.0</td>\n",
              "      <td>0.0</td>\n",
              "      <td>0.0</td>\n",
              "      <td>0.0</td>\n",
              "      <td>0.0</td>\n",
              "      <td>0.0</td>\n",
              "      <td>0.0</td>\n",
              "      <td>UEFA</td>\n",
              "      <td>1993-08-08</td>\n",
              "    </tr>\n",
              "    <tr>\n",
              "      <th>4</th>\n",
              "      <td>5</td>\n",
              "      <td>Argentina</td>\n",
              "      <td>ARG</td>\n",
              "      <td>0.0</td>\n",
              "      <td>51</td>\n",
              "      <td>5</td>\n",
              "      <td>0.0</td>\n",
              "      <td>0.0</td>\n",
              "      <td>0.0</td>\n",
              "      <td>0.0</td>\n",
              "      <td>0.0</td>\n",
              "      <td>0.0</td>\n",
              "      <td>0.0</td>\n",
              "      <td>0.0</td>\n",
              "      <td>CONMEBOL</td>\n",
              "      <td>1993-08-08</td>\n",
              "    </tr>\n",
              "  </tbody>\n",
              "</table>\n",
              "</div>"
            ],
            "text/plain": [
              "   rank country_full  ... confederation   rank_date\n",
              "0     1      Germany  ...          UEFA  1993-08-08\n",
              "1     2        Italy  ...          UEFA  1993-08-08\n",
              "2     3  Switzerland  ...          UEFA  1993-08-08\n",
              "3     4       Sweden  ...          UEFA  1993-08-08\n",
              "4     5    Argentina  ...      CONMEBOL  1993-08-08\n",
              "\n",
              "[5 rows x 16 columns]"
            ]
          },
          "metadata": {
            "tags": []
          },
          "execution_count": 316
        }
      ]
    },
    {
      "cell_type": "code",
      "metadata": {
        "id": "I1qvtfpudYWv",
        "colab_type": "code",
        "colab": {
          "base_uri": "https://localhost:8080/",
          "height": 195
        },
        "outputId": "29e08c49-681b-4a3a-ae7f-ac4732584f46"
      },
      "source": [
        "#Previewing the head of the results dataset\n",
        "results.head()"
      ],
      "execution_count": 317,
      "outputs": [
        {
          "output_type": "execute_result",
          "data": {
            "text/html": [
              "<div>\n",
              "<style scoped>\n",
              "    .dataframe tbody tr th:only-of-type {\n",
              "        vertical-align: middle;\n",
              "    }\n",
              "\n",
              "    .dataframe tbody tr th {\n",
              "        vertical-align: top;\n",
              "    }\n",
              "\n",
              "    .dataframe thead th {\n",
              "        text-align: right;\n",
              "    }\n",
              "</style>\n",
              "<table border=\"1\" class=\"dataframe\">\n",
              "  <thead>\n",
              "    <tr style=\"text-align: right;\">\n",
              "      <th></th>\n",
              "      <th>date</th>\n",
              "      <th>home_team</th>\n",
              "      <th>away_team</th>\n",
              "      <th>home_score</th>\n",
              "      <th>away_score</th>\n",
              "      <th>tournament</th>\n",
              "      <th>city</th>\n",
              "      <th>country</th>\n",
              "      <th>neutral</th>\n",
              "    </tr>\n",
              "  </thead>\n",
              "  <tbody>\n",
              "    <tr>\n",
              "      <th>0</th>\n",
              "      <td>1872-11-30</td>\n",
              "      <td>Scotland</td>\n",
              "      <td>England</td>\n",
              "      <td>0</td>\n",
              "      <td>0</td>\n",
              "      <td>Friendly</td>\n",
              "      <td>Glasgow</td>\n",
              "      <td>Scotland</td>\n",
              "      <td>False</td>\n",
              "    </tr>\n",
              "    <tr>\n",
              "      <th>1</th>\n",
              "      <td>1873-03-08</td>\n",
              "      <td>England</td>\n",
              "      <td>Scotland</td>\n",
              "      <td>4</td>\n",
              "      <td>2</td>\n",
              "      <td>Friendly</td>\n",
              "      <td>London</td>\n",
              "      <td>England</td>\n",
              "      <td>False</td>\n",
              "    </tr>\n",
              "    <tr>\n",
              "      <th>2</th>\n",
              "      <td>1874-03-07</td>\n",
              "      <td>Scotland</td>\n",
              "      <td>England</td>\n",
              "      <td>2</td>\n",
              "      <td>1</td>\n",
              "      <td>Friendly</td>\n",
              "      <td>Glasgow</td>\n",
              "      <td>Scotland</td>\n",
              "      <td>False</td>\n",
              "    </tr>\n",
              "    <tr>\n",
              "      <th>3</th>\n",
              "      <td>1875-03-06</td>\n",
              "      <td>England</td>\n",
              "      <td>Scotland</td>\n",
              "      <td>2</td>\n",
              "      <td>2</td>\n",
              "      <td>Friendly</td>\n",
              "      <td>London</td>\n",
              "      <td>England</td>\n",
              "      <td>False</td>\n",
              "    </tr>\n",
              "    <tr>\n",
              "      <th>4</th>\n",
              "      <td>1876-03-04</td>\n",
              "      <td>Scotland</td>\n",
              "      <td>England</td>\n",
              "      <td>3</td>\n",
              "      <td>0</td>\n",
              "      <td>Friendly</td>\n",
              "      <td>Glasgow</td>\n",
              "      <td>Scotland</td>\n",
              "      <td>False</td>\n",
              "    </tr>\n",
              "  </tbody>\n",
              "</table>\n",
              "</div>"
            ],
            "text/plain": [
              "         date home_team away_team  ...     city   country neutral\n",
              "0  1872-11-30  Scotland   England  ...  Glasgow  Scotland   False\n",
              "1  1873-03-08   England  Scotland  ...   London   England   False\n",
              "2  1874-03-07  Scotland   England  ...  Glasgow  Scotland   False\n",
              "3  1875-03-06   England  Scotland  ...   London   England   False\n",
              "4  1876-03-04  Scotland   England  ...  Glasgow  Scotland   False\n",
              "\n",
              "[5 rows x 9 columns]"
            ]
          },
          "metadata": {
            "tags": []
          },
          "execution_count": 317
        }
      ]
    },
    {
      "cell_type": "code",
      "metadata": {
        "id": "WZChkQemdYQl",
        "colab_type": "code",
        "colab": {
          "base_uri": "https://localhost:8080/",
          "height": 299
        },
        "outputId": "aa93eceb-98ba-471e-b1da-258d4ab09740"
      },
      "source": [
        "#Previwing the tail of the fifa ranking dataset\n",
        "fifa_ranking.tail()"
      ],
      "execution_count": 318,
      "outputs": [
        {
          "output_type": "execute_result",
          "data": {
            "text/html": [
              "<div>\n",
              "<style scoped>\n",
              "    .dataframe tbody tr th:only-of-type {\n",
              "        vertical-align: middle;\n",
              "    }\n",
              "\n",
              "    .dataframe tbody tr th {\n",
              "        vertical-align: top;\n",
              "    }\n",
              "\n",
              "    .dataframe thead th {\n",
              "        text-align: right;\n",
              "    }\n",
              "</style>\n",
              "<table border=\"1\" class=\"dataframe\">\n",
              "  <thead>\n",
              "    <tr style=\"text-align: right;\">\n",
              "      <th></th>\n",
              "      <th>rank</th>\n",
              "      <th>country_full</th>\n",
              "      <th>country_abrv</th>\n",
              "      <th>total_points</th>\n",
              "      <th>previous_points</th>\n",
              "      <th>rank_change</th>\n",
              "      <th>cur_year_avg</th>\n",
              "      <th>cur_year_avg_weighted</th>\n",
              "      <th>last_year_avg</th>\n",
              "      <th>last_year_avg_weighted</th>\n",
              "      <th>two_year_ago_avg</th>\n",
              "      <th>two_year_ago_weighted</th>\n",
              "      <th>three_year_ago_avg</th>\n",
              "      <th>three_year_ago_weighted</th>\n",
              "      <th>confederation</th>\n",
              "      <th>rank_date</th>\n",
              "    </tr>\n",
              "  </thead>\n",
              "  <tbody>\n",
              "    <tr>\n",
              "      <th>57788</th>\n",
              "      <td>206</td>\n",
              "      <td>Anguilla</td>\n",
              "      <td>AIA</td>\n",
              "      <td>0.0</td>\n",
              "      <td>0</td>\n",
              "      <td>1</td>\n",
              "      <td>0.0</td>\n",
              "      <td>0.0</td>\n",
              "      <td>0.0</td>\n",
              "      <td>0.0</td>\n",
              "      <td>0.0</td>\n",
              "      <td>0.0</td>\n",
              "      <td>0.0</td>\n",
              "      <td>0.0</td>\n",
              "      <td>CONCACAF</td>\n",
              "      <td>2018-06-07</td>\n",
              "    </tr>\n",
              "    <tr>\n",
              "      <th>57789</th>\n",
              "      <td>206</td>\n",
              "      <td>Bahamas</td>\n",
              "      <td>BAH</td>\n",
              "      <td>0.0</td>\n",
              "      <td>0</td>\n",
              "      <td>1</td>\n",
              "      <td>0.0</td>\n",
              "      <td>0.0</td>\n",
              "      <td>0.0</td>\n",
              "      <td>0.0</td>\n",
              "      <td>0.0</td>\n",
              "      <td>0.0</td>\n",
              "      <td>0.0</td>\n",
              "      <td>0.0</td>\n",
              "      <td>CONCACAF</td>\n",
              "      <td>2018-06-07</td>\n",
              "    </tr>\n",
              "    <tr>\n",
              "      <th>57790</th>\n",
              "      <td>206</td>\n",
              "      <td>Eritrea</td>\n",
              "      <td>ERI</td>\n",
              "      <td>0.0</td>\n",
              "      <td>0</td>\n",
              "      <td>1</td>\n",
              "      <td>0.0</td>\n",
              "      <td>0.0</td>\n",
              "      <td>0.0</td>\n",
              "      <td>0.0</td>\n",
              "      <td>0.0</td>\n",
              "      <td>0.0</td>\n",
              "      <td>0.0</td>\n",
              "      <td>0.0</td>\n",
              "      <td>CAF</td>\n",
              "      <td>2018-06-07</td>\n",
              "    </tr>\n",
              "    <tr>\n",
              "      <th>57791</th>\n",
              "      <td>206</td>\n",
              "      <td>Somalia</td>\n",
              "      <td>SOM</td>\n",
              "      <td>0.0</td>\n",
              "      <td>0</td>\n",
              "      <td>1</td>\n",
              "      <td>0.0</td>\n",
              "      <td>0.0</td>\n",
              "      <td>0.0</td>\n",
              "      <td>0.0</td>\n",
              "      <td>0.0</td>\n",
              "      <td>0.0</td>\n",
              "      <td>0.0</td>\n",
              "      <td>0.0</td>\n",
              "      <td>CAF</td>\n",
              "      <td>2018-06-07</td>\n",
              "    </tr>\n",
              "    <tr>\n",
              "      <th>57792</th>\n",
              "      <td>206</td>\n",
              "      <td>Tonga</td>\n",
              "      <td>TGA</td>\n",
              "      <td>0.0</td>\n",
              "      <td>0</td>\n",
              "      <td>1</td>\n",
              "      <td>0.0</td>\n",
              "      <td>0.0</td>\n",
              "      <td>0.0</td>\n",
              "      <td>0.0</td>\n",
              "      <td>0.0</td>\n",
              "      <td>0.0</td>\n",
              "      <td>0.0</td>\n",
              "      <td>0.0</td>\n",
              "      <td>OFC</td>\n",
              "      <td>2018-06-07</td>\n",
              "    </tr>\n",
              "  </tbody>\n",
              "</table>\n",
              "</div>"
            ],
            "text/plain": [
              "       rank country_full  ... confederation   rank_date\n",
              "57788   206     Anguilla  ...      CONCACAF  2018-06-07\n",
              "57789   206      Bahamas  ...      CONCACAF  2018-06-07\n",
              "57790   206      Eritrea  ...           CAF  2018-06-07\n",
              "57791   206      Somalia  ...           CAF  2018-06-07\n",
              "57792   206        Tonga  ...           OFC  2018-06-07\n",
              "\n",
              "[5 rows x 16 columns]"
            ]
          },
          "metadata": {
            "tags": []
          },
          "execution_count": 318
        }
      ]
    },
    {
      "cell_type": "code",
      "metadata": {
        "id": "-yg-bcAudel4",
        "colab_type": "code",
        "colab": {
          "base_uri": "https://localhost:8080/",
          "height": 195
        },
        "outputId": "7d2a768a-a354-431d-9f9e-edc48452ecf4"
      },
      "source": [
        "#Previwing the tail of the results dataset\n",
        "results.tail()"
      ],
      "execution_count": 319,
      "outputs": [
        {
          "output_type": "execute_result",
          "data": {
            "text/html": [
              "<div>\n",
              "<style scoped>\n",
              "    .dataframe tbody tr th:only-of-type {\n",
              "        vertical-align: middle;\n",
              "    }\n",
              "\n",
              "    .dataframe tbody tr th {\n",
              "        vertical-align: top;\n",
              "    }\n",
              "\n",
              "    .dataframe thead th {\n",
              "        text-align: right;\n",
              "    }\n",
              "</style>\n",
              "<table border=\"1\" class=\"dataframe\">\n",
              "  <thead>\n",
              "    <tr style=\"text-align: right;\">\n",
              "      <th></th>\n",
              "      <th>date</th>\n",
              "      <th>home_team</th>\n",
              "      <th>away_team</th>\n",
              "      <th>home_score</th>\n",
              "      <th>away_score</th>\n",
              "      <th>tournament</th>\n",
              "      <th>city</th>\n",
              "      <th>country</th>\n",
              "      <th>neutral</th>\n",
              "    </tr>\n",
              "  </thead>\n",
              "  <tbody>\n",
              "    <tr>\n",
              "      <th>40834</th>\n",
              "      <td>2019-07-18</td>\n",
              "      <td>American Samoa</td>\n",
              "      <td>Tahiti</td>\n",
              "      <td>8</td>\n",
              "      <td>1</td>\n",
              "      <td>Pacific Games</td>\n",
              "      <td>Apia</td>\n",
              "      <td>Samoa</td>\n",
              "      <td>True</td>\n",
              "    </tr>\n",
              "    <tr>\n",
              "      <th>40835</th>\n",
              "      <td>2019-07-18</td>\n",
              "      <td>Fiji</td>\n",
              "      <td>Solomon Islands</td>\n",
              "      <td>4</td>\n",
              "      <td>4</td>\n",
              "      <td>Pacific Games</td>\n",
              "      <td>Apia</td>\n",
              "      <td>Samoa</td>\n",
              "      <td>True</td>\n",
              "    </tr>\n",
              "    <tr>\n",
              "      <th>40836</th>\n",
              "      <td>2019-07-19</td>\n",
              "      <td>Senegal</td>\n",
              "      <td>Algeria</td>\n",
              "      <td>0</td>\n",
              "      <td>1</td>\n",
              "      <td>African Cup of Nations</td>\n",
              "      <td>Cairo</td>\n",
              "      <td>Egypt</td>\n",
              "      <td>True</td>\n",
              "    </tr>\n",
              "    <tr>\n",
              "      <th>40837</th>\n",
              "      <td>2019-07-19</td>\n",
              "      <td>Tajikistan</td>\n",
              "      <td>North Korea</td>\n",
              "      <td>0</td>\n",
              "      <td>1</td>\n",
              "      <td>Intercontinental Cup</td>\n",
              "      <td>Ahmedabad</td>\n",
              "      <td>India</td>\n",
              "      <td>True</td>\n",
              "    </tr>\n",
              "    <tr>\n",
              "      <th>40838</th>\n",
              "      <td>2019-07-20</td>\n",
              "      <td>Papua New Guinea</td>\n",
              "      <td>Fiji</td>\n",
              "      <td>1</td>\n",
              "      <td>1</td>\n",
              "      <td>Pacific Games</td>\n",
              "      <td>Apia</td>\n",
              "      <td>Samoa</td>\n",
              "      <td>True</td>\n",
              "    </tr>\n",
              "  </tbody>\n",
              "</table>\n",
              "</div>"
            ],
            "text/plain": [
              "             date         home_team  ... country  neutral\n",
              "40834  2019-07-18    American Samoa  ...   Samoa     True\n",
              "40835  2019-07-18              Fiji  ...   Samoa     True\n",
              "40836  2019-07-19           Senegal  ...   Egypt     True\n",
              "40837  2019-07-19        Tajikistan  ...   India     True\n",
              "40838  2019-07-20  Papua New Guinea  ...   Samoa     True\n",
              "\n",
              "[5 rows x 9 columns]"
            ]
          },
          "metadata": {
            "tags": []
          },
          "execution_count": 319
        }
      ]
    },
    {
      "cell_type": "markdown",
      "metadata": {
        "id": "EIWNBDWediAm",
        "colab_type": "text"
      },
      "source": [
        "# Tidying the Dataset"
      ]
    },
    {
      "cell_type": "code",
      "metadata": {
        "id": "p_qSXRYzKhcR",
        "colab_type": "code",
        "colab": {}
      },
      "source": [
        "#Dropping any duplicates\n",
        "df_ranking = fifa_ranking.drop_duplicates()\n",
        "df_results = results.drop_duplicates()"
      ],
      "execution_count": 320,
      "outputs": []
    },
    {
      "cell_type": "code",
      "metadata": {
        "id": "7FL73mVZatmL",
        "colab_type": "code",
        "colab": {}
      },
      "source": [
        "#Assuming that Month and year will be necessary to the study and so we'll extract them\n",
        "\n",
        "df_ranking['year'] = pd.DatetimeIndex(df_ranking['rank_date']).year\n",
        "df_ranking['month'] = pd.DatetimeIndex(df_ranking['rank_date']).month"
      ],
      "execution_count": 321,
      "outputs": []
    },
    {
      "cell_type": "code",
      "metadata": {
        "id": "TrY6i19pbbvc",
        "colab_type": "code",
        "colab": {}
      },
      "source": [
        "#Doing the same for the results dataset\n",
        "df_results['year'] = pd.DatetimeIndex(df_results['date']).year\n",
        "df_results['month'] = pd.DatetimeIndex(df_results['date']).month"
      ],
      "execution_count": 322,
      "outputs": []
    },
    {
      "cell_type": "code",
      "metadata": {
        "id": "a5A_oJ8adklp",
        "colab_type": "code",
        "colab": {
          "base_uri": "https://localhost:8080/",
          "height": 383
        },
        "outputId": "30e812de-4069-4b5c-9198-544f2b560798"
      },
      "source": [
        "#Joining the 2 datasets on the year and month column\n",
        "df_ball=df_results.merge( df_ranking,left_on=['year', 'month'], right_on=['year', 'month'],how='inner')\n",
        "\n",
        "df_ball.head()"
      ],
      "execution_count": 323,
      "outputs": [
        {
          "output_type": "execute_result",
          "data": {
            "text/html": [
              "<div>\n",
              "<style scoped>\n",
              "    .dataframe tbody tr th:only-of-type {\n",
              "        vertical-align: middle;\n",
              "    }\n",
              "\n",
              "    .dataframe tbody tr th {\n",
              "        vertical-align: top;\n",
              "    }\n",
              "\n",
              "    .dataframe thead th {\n",
              "        text-align: right;\n",
              "    }\n",
              "</style>\n",
              "<table border=\"1\" class=\"dataframe\">\n",
              "  <thead>\n",
              "    <tr style=\"text-align: right;\">\n",
              "      <th></th>\n",
              "      <th>date</th>\n",
              "      <th>home_team</th>\n",
              "      <th>away_team</th>\n",
              "      <th>home_score</th>\n",
              "      <th>away_score</th>\n",
              "      <th>tournament</th>\n",
              "      <th>city</th>\n",
              "      <th>country</th>\n",
              "      <th>neutral</th>\n",
              "      <th>year</th>\n",
              "      <th>month</th>\n",
              "      <th>rank</th>\n",
              "      <th>country_full</th>\n",
              "      <th>country_abrv</th>\n",
              "      <th>total_points</th>\n",
              "      <th>previous_points</th>\n",
              "      <th>rank_change</th>\n",
              "      <th>cur_year_avg</th>\n",
              "      <th>cur_year_avg_weighted</th>\n",
              "      <th>last_year_avg</th>\n",
              "      <th>last_year_avg_weighted</th>\n",
              "      <th>two_year_ago_avg</th>\n",
              "      <th>two_year_ago_weighted</th>\n",
              "      <th>three_year_ago_avg</th>\n",
              "      <th>three_year_ago_weighted</th>\n",
              "      <th>confederation</th>\n",
              "      <th>rank_date</th>\n",
              "    </tr>\n",
              "  </thead>\n",
              "  <tbody>\n",
              "    <tr>\n",
              "      <th>0</th>\n",
              "      <td>1993-08-01</td>\n",
              "      <td>Colombia</td>\n",
              "      <td>Paraguay</td>\n",
              "      <td>0</td>\n",
              "      <td>0</td>\n",
              "      <td>FIFA World Cup qualification</td>\n",
              "      <td>Barranquilla</td>\n",
              "      <td>Colombia</td>\n",
              "      <td>False</td>\n",
              "      <td>1993</td>\n",
              "      <td>8</td>\n",
              "      <td>1</td>\n",
              "      <td>Germany</td>\n",
              "      <td>GER</td>\n",
              "      <td>0.0</td>\n",
              "      <td>57</td>\n",
              "      <td>0</td>\n",
              "      <td>0.0</td>\n",
              "      <td>0.0</td>\n",
              "      <td>0.0</td>\n",
              "      <td>0.0</td>\n",
              "      <td>0.0</td>\n",
              "      <td>0.0</td>\n",
              "      <td>0.0</td>\n",
              "      <td>0.0</td>\n",
              "      <td>UEFA</td>\n",
              "      <td>1993-08-08</td>\n",
              "    </tr>\n",
              "    <tr>\n",
              "      <th>1</th>\n",
              "      <td>1993-08-01</td>\n",
              "      <td>Colombia</td>\n",
              "      <td>Paraguay</td>\n",
              "      <td>0</td>\n",
              "      <td>0</td>\n",
              "      <td>FIFA World Cup qualification</td>\n",
              "      <td>Barranquilla</td>\n",
              "      <td>Colombia</td>\n",
              "      <td>False</td>\n",
              "      <td>1993</td>\n",
              "      <td>8</td>\n",
              "      <td>2</td>\n",
              "      <td>Italy</td>\n",
              "      <td>ITA</td>\n",
              "      <td>0.0</td>\n",
              "      <td>57</td>\n",
              "      <td>0</td>\n",
              "      <td>0.0</td>\n",
              "      <td>0.0</td>\n",
              "      <td>0.0</td>\n",
              "      <td>0.0</td>\n",
              "      <td>0.0</td>\n",
              "      <td>0.0</td>\n",
              "      <td>0.0</td>\n",
              "      <td>0.0</td>\n",
              "      <td>UEFA</td>\n",
              "      <td>1993-08-08</td>\n",
              "    </tr>\n",
              "    <tr>\n",
              "      <th>2</th>\n",
              "      <td>1993-08-01</td>\n",
              "      <td>Colombia</td>\n",
              "      <td>Paraguay</td>\n",
              "      <td>0</td>\n",
              "      <td>0</td>\n",
              "      <td>FIFA World Cup qualification</td>\n",
              "      <td>Barranquilla</td>\n",
              "      <td>Colombia</td>\n",
              "      <td>False</td>\n",
              "      <td>1993</td>\n",
              "      <td>8</td>\n",
              "      <td>3</td>\n",
              "      <td>Switzerland</td>\n",
              "      <td>SUI</td>\n",
              "      <td>0.0</td>\n",
              "      <td>50</td>\n",
              "      <td>9</td>\n",
              "      <td>0.0</td>\n",
              "      <td>0.0</td>\n",
              "      <td>0.0</td>\n",
              "      <td>0.0</td>\n",
              "      <td>0.0</td>\n",
              "      <td>0.0</td>\n",
              "      <td>0.0</td>\n",
              "      <td>0.0</td>\n",
              "      <td>UEFA</td>\n",
              "      <td>1993-08-08</td>\n",
              "    </tr>\n",
              "    <tr>\n",
              "      <th>3</th>\n",
              "      <td>1993-08-01</td>\n",
              "      <td>Colombia</td>\n",
              "      <td>Paraguay</td>\n",
              "      <td>0</td>\n",
              "      <td>0</td>\n",
              "      <td>FIFA World Cup qualification</td>\n",
              "      <td>Barranquilla</td>\n",
              "      <td>Colombia</td>\n",
              "      <td>False</td>\n",
              "      <td>1993</td>\n",
              "      <td>8</td>\n",
              "      <td>4</td>\n",
              "      <td>Sweden</td>\n",
              "      <td>SWE</td>\n",
              "      <td>0.0</td>\n",
              "      <td>55</td>\n",
              "      <td>0</td>\n",
              "      <td>0.0</td>\n",
              "      <td>0.0</td>\n",
              "      <td>0.0</td>\n",
              "      <td>0.0</td>\n",
              "      <td>0.0</td>\n",
              "      <td>0.0</td>\n",
              "      <td>0.0</td>\n",
              "      <td>0.0</td>\n",
              "      <td>UEFA</td>\n",
              "      <td>1993-08-08</td>\n",
              "    </tr>\n",
              "    <tr>\n",
              "      <th>4</th>\n",
              "      <td>1993-08-01</td>\n",
              "      <td>Colombia</td>\n",
              "      <td>Paraguay</td>\n",
              "      <td>0</td>\n",
              "      <td>0</td>\n",
              "      <td>FIFA World Cup qualification</td>\n",
              "      <td>Barranquilla</td>\n",
              "      <td>Colombia</td>\n",
              "      <td>False</td>\n",
              "      <td>1993</td>\n",
              "      <td>8</td>\n",
              "      <td>5</td>\n",
              "      <td>Argentina</td>\n",
              "      <td>ARG</td>\n",
              "      <td>0.0</td>\n",
              "      <td>51</td>\n",
              "      <td>5</td>\n",
              "      <td>0.0</td>\n",
              "      <td>0.0</td>\n",
              "      <td>0.0</td>\n",
              "      <td>0.0</td>\n",
              "      <td>0.0</td>\n",
              "      <td>0.0</td>\n",
              "      <td>0.0</td>\n",
              "      <td>0.0</td>\n",
              "      <td>CONMEBOL</td>\n",
              "      <td>1993-08-08</td>\n",
              "    </tr>\n",
              "  </tbody>\n",
              "</table>\n",
              "</div>"
            ],
            "text/plain": [
              "         date home_team  ... confederation   rank_date\n",
              "0  1993-08-01  Colombia  ...          UEFA  1993-08-08\n",
              "1  1993-08-01  Colombia  ...          UEFA  1993-08-08\n",
              "2  1993-08-01  Colombia  ...          UEFA  1993-08-08\n",
              "3  1993-08-01  Colombia  ...          UEFA  1993-08-08\n",
              "4  1993-08-01  Colombia  ...      CONMEBOL  1993-08-08\n",
              "\n",
              "[5 rows x 27 columns]"
            ]
          },
          "metadata": {
            "tags": []
          },
          "execution_count": 323
        }
      ]
    },
    {
      "cell_type": "code",
      "metadata": {
        "id": "LB7OBBSmZyWR",
        "colab_type": "code",
        "colab": {
          "base_uri": "https://localhost:8080/",
          "height": 34
        },
        "outputId": "a71be702-8c28-4462-c645-edd0edcdb906"
      },
      "source": [
        "df_ball.shape"
      ],
      "execution_count": 324,
      "outputs": [
        {
          "output_type": "execute_result",
          "data": {
            "text/plain": [
              "(4291108, 27)"
            ]
          },
          "metadata": {
            "tags": []
          },
          "execution_count": 324
        }
      ]
    },
    {
      "cell_type": "code",
      "metadata": {
        "id": "l6flxm9Wb4nc",
        "colab_type": "code",
        "colab": {
          "base_uri": "https://localhost:8080/",
          "height": 151
        },
        "outputId": "88c6beb6-6b47-439f-a705-a12e241951c8"
      },
      "source": [
        "df_ball.columns"
      ],
      "execution_count": 325,
      "outputs": [
        {
          "output_type": "execute_result",
          "data": {
            "text/plain": [
              "Index(['date', 'home_team', 'away_team', 'home_score', 'away_score',\n",
              "       'tournament', 'city', 'country', 'neutral', 'year', 'month', 'rank',\n",
              "       'country_full', 'country_abrv', 'total_points', 'previous_points',\n",
              "       'rank_change', 'cur_year_avg', 'cur_year_avg_weighted', 'last_year_avg',\n",
              "       'last_year_avg_weighted', 'two_year_ago_avg', 'two_year_ago_weighted',\n",
              "       'three_year_ago_avg', 'three_year_ago_weighted', 'confederation',\n",
              "       'rank_date'],\n",
              "      dtype='object')"
            ]
          },
          "metadata": {
            "tags": []
          },
          "execution_count": 325
        }
      ]
    },
    {
      "cell_type": "code",
      "metadata": {
        "id": "Fx6_T5YfmxQC",
        "colab_type": "code",
        "colab": {}
      },
      "source": [
        "#Dropping unnecesarry columns\n",
        "df_ball = df_ball.drop(['date', 'country_abrv' ], axis=1)"
      ],
      "execution_count": 326,
      "outputs": []
    },
    {
      "cell_type": "markdown",
      "metadata": {
        "id": "8Im5pqwkeInd",
        "colab_type": "text"
      },
      "source": [
        "I dropped these because I deemed them unnecessary. However, more will be dropped as I continue working on the notebook."
      ]
    },
    {
      "cell_type": "code",
      "metadata": {
        "id": "8iYngWK3m2pV",
        "colab_type": "code",
        "colab": {
          "base_uri": "https://localhost:8080/",
          "height": 454
        },
        "outputId": "d1bff4f0-103d-41f4-b8e1-ee723bc2f107"
      },
      "source": [
        "#Checking for missing values\n",
        "df_ball.isnull().sum()"
      ],
      "execution_count": 327,
      "outputs": [
        {
          "output_type": "execute_result",
          "data": {
            "text/plain": [
              "home_team                  0\n",
              "away_team                  0\n",
              "home_score                 0\n",
              "away_score                 0\n",
              "tournament                 0\n",
              "city                       0\n",
              "country                    0\n",
              "neutral                    0\n",
              "year                       0\n",
              "month                      0\n",
              "rank                       0\n",
              "country_full               0\n",
              "total_points               0\n",
              "previous_points            0\n",
              "rank_change                0\n",
              "cur_year_avg               0\n",
              "cur_year_avg_weighted      0\n",
              "last_year_avg              0\n",
              "last_year_avg_weighted     0\n",
              "two_year_ago_avg           0\n",
              "two_year_ago_weighted      0\n",
              "three_year_ago_avg         0\n",
              "three_year_ago_weighted    0\n",
              "confederation              0\n",
              "rank_date                  0\n",
              "dtype: int64"
            ]
          },
          "metadata": {
            "tags": []
          },
          "execution_count": 327
        }
      ]
    },
    {
      "cell_type": "markdown",
      "metadata": {
        "id": "npC5GieUedLa",
        "colab_type": "text"
      },
      "source": [
        "There are no missing values."
      ]
    },
    {
      "cell_type": "code",
      "metadata": {
        "id": "mnnFARtPnNXW",
        "colab_type": "code",
        "colab": {
          "base_uri": "https://localhost:8080/",
          "height": 454
        },
        "outputId": "0f9027e0-f93b-406b-dcd4-844571bf8625"
      },
      "source": [
        "#checking if the dataset has the necessary data types\n",
        "df_ball.dtypes"
      ],
      "execution_count": 328,
      "outputs": [
        {
          "output_type": "execute_result",
          "data": {
            "text/plain": [
              "home_team                   object\n",
              "away_team                   object\n",
              "home_score                   int64\n",
              "away_score                   int64\n",
              "tournament                  object\n",
              "city                        object\n",
              "country                     object\n",
              "neutral                       bool\n",
              "year                         int64\n",
              "month                        int64\n",
              "rank                         int64\n",
              "country_full                object\n",
              "total_points               float64\n",
              "previous_points              int64\n",
              "rank_change                  int64\n",
              "cur_year_avg               float64\n",
              "cur_year_avg_weighted      float64\n",
              "last_year_avg              float64\n",
              "last_year_avg_weighted     float64\n",
              "two_year_ago_avg           float64\n",
              "two_year_ago_weighted      float64\n",
              "three_year_ago_avg         float64\n",
              "three_year_ago_weighted    float64\n",
              "confederation               object\n",
              "rank_date                   object\n",
              "dtype: object"
            ]
          },
          "metadata": {
            "tags": []
          },
          "execution_count": 328
        }
      ]
    },
    {
      "cell_type": "code",
      "metadata": {
        "id": "WsueMNd4m2-7",
        "colab_type": "code",
        "colab": {
          "base_uri": "https://localhost:8080/",
          "height": 285
        },
        "outputId": "ae5f441e-b7cd-4cf0-e1ee-780ce6df1de7"
      },
      "source": [
        "#Checking for outliers\n",
        "sns.boxplot(df_ball[\"total_points\"], showmeans=True, orient='vert')\n",
        "plt.title('Box plot of total points')"
      ],
      "execution_count": 329,
      "outputs": [
        {
          "output_type": "execute_result",
          "data": {
            "text/plain": [
              "Text(0.5, 1.0, 'Box plot of total points')"
            ]
          },
          "metadata": {
            "tags": []
          },
          "execution_count": 329
        },
        {
          "output_type": "display_data",
          "data": {
            "image/png": "[encoded data removed]",
            "text/plain": [
              "<Figure size 432x288 with 1 Axes>"
            ]
          },
          "metadata": {
            "tags": [],
            "needs_background": "light"
          }
        }
      ]
    },
    {
      "cell_type": "markdown",
      "metadata": {
        "id": "eIKRTL7MRWaD",
        "colab_type": "text"
      },
      "source": [
        "I decided not to deal with any outlier since they were recorded points and it was expected for them to differ"
      ]
    },
    {
      "cell_type": "markdown",
      "metadata": {
        "id": "M4iJt3_uwxHP",
        "colab_type": "text"
      },
      "source": [
        "## Feature Engineering"
      ]
    },
    {
      "cell_type": "code",
      "metadata": {
        "id": "JjwEHyBbv4vo",
        "colab_type": "code",
        "colab": {}
      },
      "source": [
        "#Creating a hometeam_rank & awayteam_ranks column\n",
        "#home_team = df_ball[df_ball.home_team == df_ball.country]\n",
        "\n",
        "df1 = df_ball[df_ball['home_team'] == df_ball['country_full']]\n",
        "df2 = df_ball[df_ball['away_team'] == df_ball['country_full']]"
      ],
      "execution_count": 330,
      "outputs": []
    },
    {
      "cell_type": "markdown",
      "metadata": {
        "id": "YhWGY3qwXwBJ",
        "colab_type": "text"
      },
      "source": [
        "\n",
        "\n",
        "> The point of the codes down below is to try and get 2 rank columns, 1 for each team i.e away team and home team. First thing done was to get the away team and home team datasets separately.\n",
        "\n"
      ]
    },
    {
      "cell_type": "code",
      "metadata": {
        "id": "aHfH4Dp3g3F_",
        "colab_type": "code",
        "colab": {
          "base_uri": "https://localhost:8080/",
          "height": 34
        },
        "outputId": "6c047e05-cb54-4320-fd8a-55c45718cee1"
      },
      "source": [
        "df1.shape"
      ],
      "execution_count": 331,
      "outputs": [
        {
          "output_type": "execute_result",
          "data": {
            "text/plain": [
              "(18593, 25)"
            ]
          },
          "metadata": {
            "tags": []
          },
          "execution_count": 331
        }
      ]
    },
    {
      "cell_type": "code",
      "metadata": {
        "id": "7-Xc1_WDfv3E",
        "colab_type": "code",
        "colab": {
          "base_uri": "https://localhost:8080/",
          "height": 134
        },
        "outputId": "299d139c-52a1-4dfe-bbbb-1cae8bac0939"
      },
      "source": [
        "df1.columns"
      ],
      "execution_count": 332,
      "outputs": [
        {
          "output_type": "execute_result",
          "data": {
            "text/plain": [
              "Index(['home_team', 'away_team', 'home_score', 'away_score', 'tournament',\n",
              "       'city', 'country', 'neutral', 'year', 'month', 'rank', 'country_full',\n",
              "       'total_points', 'previous_points', 'rank_change', 'cur_year_avg',\n",
              "       'cur_year_avg_weighted', 'last_year_avg', 'last_year_avg_weighted',\n",
              "       'two_year_ago_avg', 'two_year_ago_weighted', 'three_year_ago_avg',\n",
              "       'three_year_ago_weighted', 'confederation', 'rank_date'],\n",
              "      dtype='object')"
            ]
          },
          "metadata": {
            "tags": []
          },
          "execution_count": 332
        }
      ]
    },
    {
      "cell_type": "code",
      "metadata": {
        "id": "XR5S7OAWaN33",
        "colab_type": "code",
        "colab": {
          "base_uri": "https://localhost:8080/",
          "height": 34
        },
        "outputId": "ad3f034c-47d5-4852-ab02-fdf4faf185f5"
      },
      "source": [
        "df2.shape"
      ],
      "execution_count": 333,
      "outputs": [
        {
          "output_type": "execute_result",
          "data": {
            "text/plain": [
              "(18502, 25)"
            ]
          },
          "metadata": {
            "tags": []
          },
          "execution_count": 333
        }
      ]
    },
    {
      "cell_type": "code",
      "metadata": {
        "id": "Gtd8Q0BKkOkx",
        "colab_type": "code",
        "colab": {}
      },
      "source": [
        "#Dropping unnecessary columns\n",
        "df1 = df1.drop(['city', 'country', 'neutral', 'month', 'country_full', 'total_points', 'previous_points', 'rank_change', 'cur_year_avg',\n",
        "         'cur_year_avg_weighted', 'last_year_avg', 'last_year_avg_weighted', 'two_year_ago_avg', 'two_year_ago_weighted', 'three_year_ago_avg',\n",
        "         'three_year_ago_weighted', 'confederation', 'rank_date'], axis=1)"
      ],
      "execution_count": 334,
      "outputs": []
    },
    {
      "cell_type": "code",
      "metadata": {
        "id": "9IZogLtQaU0D",
        "colab_type": "code",
        "colab": {
          "base_uri": "https://localhost:8080/",
          "height": 134
        },
        "outputId": "bf6f705c-2f8c-4eba-8262-6cd41ec7cb16"
      },
      "source": [
        "df2.columns"
      ],
      "execution_count": 335,
      "outputs": [
        {
          "output_type": "execute_result",
          "data": {
            "text/plain": [
              "Index(['home_team', 'away_team', 'home_score', 'away_score', 'tournament',\n",
              "       'city', 'country', 'neutral', 'year', 'month', 'rank', 'country_full',\n",
              "       'total_points', 'previous_points', 'rank_change', 'cur_year_avg',\n",
              "       'cur_year_avg_weighted', 'last_year_avg', 'last_year_avg_weighted',\n",
              "       'two_year_ago_avg', 'two_year_ago_weighted', 'three_year_ago_avg',\n",
              "       'three_year_ago_weighted', 'confederation', 'rank_date'],\n",
              "      dtype='object')"
            ]
          },
          "metadata": {
            "tags": []
          },
          "execution_count": 335
        }
      ]
    },
    {
      "cell_type": "code",
      "metadata": {
        "id": "wX5TNOvkf3xP",
        "colab_type": "code",
        "colab": {}
      },
      "source": [
        "df2 = df2.drop(['city', 'country', 'neutral', 'month', 'country_full', 'total_points', 'previous_points', 'rank_change', 'cur_year_avg', \n",
        "                'cur_year_avg_weighted', 'last_year_avg', 'last_year_avg_weighted', 'two_year_ago_avg', 'two_year_ago_weighted', 'three_year_ago_avg',\n",
        "                'three_year_ago_weighted', 'confederation', 'rank_date'], axis=1)"
      ],
      "execution_count": 336,
      "outputs": []
    },
    {
      "cell_type": "markdown",
      "metadata": {
        "id": "-8yQ8iPAYKAe",
        "colab_type": "text"
      },
      "source": [
        "\n",
        "\n",
        "> At this point I decided to drop the columns that I saw were unnecessary. My assumption is that wherever a match is played won't have much effect on the game's result and so I dropped the city and country coulumn. They also have so many records and dealing with them will be hectic if we try and convert them to values while modelling. The same also applies to year since it runs from 1872 to 2019. Since we were already creating a rank column for each team, rank_change wasn't necessary. All the average and weighted columns were dropped since I already had the total points column. I dropped rank date and confederation since I had the month and tournament respectively.\n",
        "\n"
      ]
    },
    {
      "cell_type": "code",
      "metadata": {
        "id": "O7Epg8EGv4-g",
        "colab_type": "code",
        "colab": {}
      },
      "source": [
        "# Merging both the away team and home team\n",
        "new_df = pd.merge(df1, df2, how = 'left', left_on = ['home_team', 'away_team', 'tournament', 'year', 'home_score', 'away_score'],\\\n",
        "                  right_on = ['home_team', 'away_team', 'tournament', 'year', 'home_score', 'away_score'])"
      ],
      "execution_count": 337,
      "outputs": []
    },
    {
      "cell_type": "code",
      "metadata": {
        "id": "d_PW3TR6cT9y",
        "colab_type": "code",
        "colab": {
          "base_uri": "https://localhost:8080/",
          "height": 195
        },
        "outputId": "cbe8a00a-2e7e-440b-a323-dc717d521aa0"
      },
      "source": [
        "new_df.head()"
      ],
      "execution_count": 338,
      "outputs": [
        {
          "output_type": "execute_result",
          "data": {
            "text/html": [
              "<div>\n",
              "<style scoped>\n",
              "    .dataframe tbody tr th:only-of-type {\n",
              "        vertical-align: middle;\n",
              "    }\n",
              "\n",
              "    .dataframe tbody tr th {\n",
              "        vertical-align: top;\n",
              "    }\n",
              "\n",
              "    .dataframe thead th {\n",
              "        text-align: right;\n",
              "    }\n",
              "</style>\n",
              "<table border=\"1\" class=\"dataframe\">\n",
              "  <thead>\n",
              "    <tr style=\"text-align: right;\">\n",
              "      <th></th>\n",
              "      <th>home_team</th>\n",
              "      <th>away_team</th>\n",
              "      <th>home_score</th>\n",
              "      <th>away_score</th>\n",
              "      <th>tournament</th>\n",
              "      <th>year</th>\n",
              "      <th>rank_x</th>\n",
              "      <th>rank_y</th>\n",
              "    </tr>\n",
              "  </thead>\n",
              "  <tbody>\n",
              "    <tr>\n",
              "      <th>0</th>\n",
              "      <td>Colombia</td>\n",
              "      <td>Paraguay</td>\n",
              "      <td>0</td>\n",
              "      <td>0</td>\n",
              "      <td>FIFA World Cup qualification</td>\n",
              "      <td>1993</td>\n",
              "      <td>19</td>\n",
              "      <td>67.0</td>\n",
              "    </tr>\n",
              "    <tr>\n",
              "      <th>1</th>\n",
              "      <td>Peru</td>\n",
              "      <td>Argentina</td>\n",
              "      <td>0</td>\n",
              "      <td>1</td>\n",
              "      <td>FIFA World Cup qualification</td>\n",
              "      <td>1993</td>\n",
              "      <td>70</td>\n",
              "      <td>5.0</td>\n",
              "    </tr>\n",
              "    <tr>\n",
              "      <th>2</th>\n",
              "      <td>Uruguay</td>\n",
              "      <td>Ecuador</td>\n",
              "      <td>0</td>\n",
              "      <td>0</td>\n",
              "      <td>FIFA World Cup qualification</td>\n",
              "      <td>1993</td>\n",
              "      <td>22</td>\n",
              "      <td>35.0</td>\n",
              "    </tr>\n",
              "    <tr>\n",
              "      <th>3</th>\n",
              "      <td>Venezuela</td>\n",
              "      <td>Brazil</td>\n",
              "      <td>1</td>\n",
              "      <td>5</td>\n",
              "      <td>FIFA World Cup qualification</td>\n",
              "      <td>1993</td>\n",
              "      <td>94</td>\n",
              "      <td>8.0</td>\n",
              "    </tr>\n",
              "    <tr>\n",
              "      <th>4</th>\n",
              "      <td>Senegal</td>\n",
              "      <td>Zambia</td>\n",
              "      <td>0</td>\n",
              "      <td>0</td>\n",
              "      <td>FIFA World Cup qualification</td>\n",
              "      <td>1993</td>\n",
              "      <td>58</td>\n",
              "      <td>25.0</td>\n",
              "    </tr>\n",
              "  </tbody>\n",
              "</table>\n",
              "</div>"
            ],
            "text/plain": [
              "   home_team  away_team  home_score  ...  year rank_x  rank_y\n",
              "0   Colombia   Paraguay           0  ...  1993     19    67.0\n",
              "1       Peru  Argentina           0  ...  1993     70     5.0\n",
              "2    Uruguay    Ecuador           0  ...  1993     22    35.0\n",
              "3  Venezuela     Brazil           1  ...  1993     94     8.0\n",
              "4    Senegal     Zambia           0  ...  1993     58    25.0\n",
              "\n",
              "[5 rows x 8 columns]"
            ]
          },
          "metadata": {
            "tags": []
          },
          "execution_count": 338
        }
      ]
    },
    {
      "cell_type": "code",
      "metadata": {
        "id": "bWL-HOJjeN9C",
        "colab_type": "code",
        "colab": {
          "base_uri": "https://localhost:8080/",
          "height": 195
        },
        "outputId": "f9aa0f42-1d21-47fc-daa4-6d955c0fd8b6"
      },
      "source": [
        "#Renaming the columns\n",
        "new_df = new_df.rename(columns={'rank_x' : 'home_rank', 'rank_y' : 'away_rank'})\n",
        "new_df.head()"
      ],
      "execution_count": 339,
      "outputs": [
        {
          "output_type": "execute_result",
          "data": {
            "text/html": [
              "<div>\n",
              "<style scoped>\n",
              "    .dataframe tbody tr th:only-of-type {\n",
              "        vertical-align: middle;\n",
              "    }\n",
              "\n",
              "    .dataframe tbody tr th {\n",
              "        vertical-align: top;\n",
              "    }\n",
              "\n",
              "    .dataframe thead th {\n",
              "        text-align: right;\n",
              "    }\n",
              "</style>\n",
              "<table border=\"1\" class=\"dataframe\">\n",
              "  <thead>\n",
              "    <tr style=\"text-align: right;\">\n",
              "      <th></th>\n",
              "      <th>home_team</th>\n",
              "      <th>away_team</th>\n",
              "      <th>home_score</th>\n",
              "      <th>away_score</th>\n",
              "      <th>tournament</th>\n",
              "      <th>year</th>\n",
              "      <th>home_rank</th>\n",
              "      <th>away_rank</th>\n",
              "    </tr>\n",
              "  </thead>\n",
              "  <tbody>\n",
              "    <tr>\n",
              "      <th>0</th>\n",
              "      <td>Colombia</td>\n",
              "      <td>Paraguay</td>\n",
              "      <td>0</td>\n",
              "      <td>0</td>\n",
              "      <td>FIFA World Cup qualification</td>\n",
              "      <td>1993</td>\n",
              "      <td>19</td>\n",
              "      <td>67.0</td>\n",
              "    </tr>\n",
              "    <tr>\n",
              "      <th>1</th>\n",
              "      <td>Peru</td>\n",
              "      <td>Argentina</td>\n",
              "      <td>0</td>\n",
              "      <td>1</td>\n",
              "      <td>FIFA World Cup qualification</td>\n",
              "      <td>1993</td>\n",
              "      <td>70</td>\n",
              "      <td>5.0</td>\n",
              "    </tr>\n",
              "    <tr>\n",
              "      <th>2</th>\n",
              "      <td>Uruguay</td>\n",
              "      <td>Ecuador</td>\n",
              "      <td>0</td>\n",
              "      <td>0</td>\n",
              "      <td>FIFA World Cup qualification</td>\n",
              "      <td>1993</td>\n",
              "      <td>22</td>\n",
              "      <td>35.0</td>\n",
              "    </tr>\n",
              "    <tr>\n",
              "      <th>3</th>\n",
              "      <td>Venezuela</td>\n",
              "      <td>Brazil</td>\n",
              "      <td>1</td>\n",
              "      <td>5</td>\n",
              "      <td>FIFA World Cup qualification</td>\n",
              "      <td>1993</td>\n",
              "      <td>94</td>\n",
              "      <td>8.0</td>\n",
              "    </tr>\n",
              "    <tr>\n",
              "      <th>4</th>\n",
              "      <td>Senegal</td>\n",
              "      <td>Zambia</td>\n",
              "      <td>0</td>\n",
              "      <td>0</td>\n",
              "      <td>FIFA World Cup qualification</td>\n",
              "      <td>1993</td>\n",
              "      <td>58</td>\n",
              "      <td>25.0</td>\n",
              "    </tr>\n",
              "  </tbody>\n",
              "</table>\n",
              "</div>"
            ],
            "text/plain": [
              "   home_team  away_team  home_score  ...  year home_rank  away_rank\n",
              "0   Colombia   Paraguay           0  ...  1993        19       67.0\n",
              "1       Peru  Argentina           0  ...  1993        70        5.0\n",
              "2    Uruguay    Ecuador           0  ...  1993        22       35.0\n",
              "3  Venezuela     Brazil           1  ...  1993        94        8.0\n",
              "4    Senegal     Zambia           0  ...  1993        58       25.0\n",
              "\n",
              "[5 rows x 8 columns]"
            ]
          },
          "metadata": {
            "tags": []
          },
          "execution_count": 339
        }
      ]
    },
    {
      "cell_type": "code",
      "metadata": {
        "id": "usXEprpFwNA6",
        "colab_type": "code",
        "colab": {
          "base_uri": "https://localhost:8080/",
          "height": 195
        },
        "outputId": "8a61d6a4-b332-4ea2-a0b4-4ce8e7ef2764"
      },
      "source": [
        "# Creating a function to be used to create a win, draw or lose column (status)\n",
        "#The code minuses the away score from the home score so as to see the difference\n",
        "#A negative result shows lose, a positive is a win while 0 is a draw\n",
        "new_df['score'] = new_df.home_score - new_df.away_score\n",
        "\n",
        "def result(goals):\n",
        "  if goals > 0:\n",
        "    return 'Win'\n",
        "  elif goals < 0:\n",
        "    return 'Lose'\n",
        "  else:\n",
        "    return 'Draw'\n",
        "# Applying the result function to the dataframe\n",
        "#\n",
        "new_df['result'] = new_df.score.apply(lambda x: result(x))\n",
        "\n",
        "# Dropping the score column, as it has served its purpose of creating the status column\n",
        "#\n",
        "new_df.drop('score', axis = 1, inplace = True)\n",
        "\n",
        "\n",
        "# Previewing to see if there's change \n",
        "new_df.head()"
      ],
      "execution_count": 340,
      "outputs": [
        {
          "output_type": "execute_result",
          "data": {
            "text/html": [
              "<div>\n",
              "<style scoped>\n",
              "    .dataframe tbody tr th:only-of-type {\n",
              "        vertical-align: middle;\n",
              "    }\n",
              "\n",
              "    .dataframe tbody tr th {\n",
              "        vertical-align: top;\n",
              "    }\n",
              "\n",
              "    .dataframe thead th {\n",
              "        text-align: right;\n",
              "    }\n",
              "</style>\n",
              "<table border=\"1\" class=\"dataframe\">\n",
              "  <thead>\n",
              "    <tr style=\"text-align: right;\">\n",
              "      <th></th>\n",
              "      <th>home_team</th>\n",
              "      <th>away_team</th>\n",
              "      <th>home_score</th>\n",
              "      <th>away_score</th>\n",
              "      <th>tournament</th>\n",
              "      <th>year</th>\n",
              "      <th>home_rank</th>\n",
              "      <th>away_rank</th>\n",
              "      <th>result</th>\n",
              "    </tr>\n",
              "  </thead>\n",
              "  <tbody>\n",
              "    <tr>\n",
              "      <th>0</th>\n",
              "      <td>Colombia</td>\n",
              "      <td>Paraguay</td>\n",
              "      <td>0</td>\n",
              "      <td>0</td>\n",
              "      <td>FIFA World Cup qualification</td>\n",
              "      <td>1993</td>\n",
              "      <td>19</td>\n",
              "      <td>67.0</td>\n",
              "      <td>Draw</td>\n",
              "    </tr>\n",
              "    <tr>\n",
              "      <th>1</th>\n",
              "      <td>Peru</td>\n",
              "      <td>Argentina</td>\n",
              "      <td>0</td>\n",
              "      <td>1</td>\n",
              "      <td>FIFA World Cup qualification</td>\n",
              "      <td>1993</td>\n",
              "      <td>70</td>\n",
              "      <td>5.0</td>\n",
              "      <td>Lose</td>\n",
              "    </tr>\n",
              "    <tr>\n",
              "      <th>2</th>\n",
              "      <td>Uruguay</td>\n",
              "      <td>Ecuador</td>\n",
              "      <td>0</td>\n",
              "      <td>0</td>\n",
              "      <td>FIFA World Cup qualification</td>\n",
              "      <td>1993</td>\n",
              "      <td>22</td>\n",
              "      <td>35.0</td>\n",
              "      <td>Draw</td>\n",
              "    </tr>\n",
              "    <tr>\n",
              "      <th>3</th>\n",
              "      <td>Venezuela</td>\n",
              "      <td>Brazil</td>\n",
              "      <td>1</td>\n",
              "      <td>5</td>\n",
              "      <td>FIFA World Cup qualification</td>\n",
              "      <td>1993</td>\n",
              "      <td>94</td>\n",
              "      <td>8.0</td>\n",
              "      <td>Lose</td>\n",
              "    </tr>\n",
              "    <tr>\n",
              "      <th>4</th>\n",
              "      <td>Senegal</td>\n",
              "      <td>Zambia</td>\n",
              "      <td>0</td>\n",
              "      <td>0</td>\n",
              "      <td>FIFA World Cup qualification</td>\n",
              "      <td>1993</td>\n",
              "      <td>58</td>\n",
              "      <td>25.0</td>\n",
              "      <td>Draw</td>\n",
              "    </tr>\n",
              "  </tbody>\n",
              "</table>\n",
              "</div>"
            ],
            "text/plain": [
              "   home_team  away_team  home_score  ...  home_rank away_rank  result\n",
              "0   Colombia   Paraguay           0  ...         19      67.0    Draw\n",
              "1       Peru  Argentina           0  ...         70       5.0    Lose\n",
              "2    Uruguay    Ecuador           0  ...         22      35.0    Draw\n",
              "3  Venezuela     Brazil           1  ...         94       8.0    Lose\n",
              "4    Senegal     Zambia           0  ...         58      25.0    Draw\n",
              "\n",
              "[5 rows x 9 columns]"
            ]
          },
          "metadata": {
            "tags": []
          },
          "execution_count": 340
        }
      ]
    },
    {
      "cell_type": "code",
      "metadata": {
        "id": "LbtAZzMSsESF",
        "colab_type": "code",
        "colab": {
          "base_uri": "https://localhost:8080/",
          "height": 195
        },
        "outputId": "95e48a1b-39c5-4a4c-bbac-15397c5e3fbf"
      },
      "source": [
        "#Changing the result name column to status\n",
        "new_df\n",
        "new_df = new_df.rename(columns={'result' : 'status'})\n",
        "new_df.head()"
      ],
      "execution_count": 341,
      "outputs": [
        {
          "output_type": "execute_result",
          "data": {
            "text/html": [
              "<div>\n",
              "<style scoped>\n",
              "    .dataframe tbody tr th:only-of-type {\n",
              "        vertical-align: middle;\n",
              "    }\n",
              "\n",
              "    .dataframe tbody tr th {\n",
              "        vertical-align: top;\n",
              "    }\n",
              "\n",
              "    .dataframe thead th {\n",
              "        text-align: right;\n",
              "    }\n",
              "</style>\n",
              "<table border=\"1\" class=\"dataframe\">\n",
              "  <thead>\n",
              "    <tr style=\"text-align: right;\">\n",
              "      <th></th>\n",
              "      <th>home_team</th>\n",
              "      <th>away_team</th>\n",
              "      <th>home_score</th>\n",
              "      <th>away_score</th>\n",
              "      <th>tournament</th>\n",
              "      <th>year</th>\n",
              "      <th>home_rank</th>\n",
              "      <th>away_rank</th>\n",
              "      <th>status</th>\n",
              "    </tr>\n",
              "  </thead>\n",
              "  <tbody>\n",
              "    <tr>\n",
              "      <th>0</th>\n",
              "      <td>Colombia</td>\n",
              "      <td>Paraguay</td>\n",
              "      <td>0</td>\n",
              "      <td>0</td>\n",
              "      <td>FIFA World Cup qualification</td>\n",
              "      <td>1993</td>\n",
              "      <td>19</td>\n",
              "      <td>67.0</td>\n",
              "      <td>Draw</td>\n",
              "    </tr>\n",
              "    <tr>\n",
              "      <th>1</th>\n",
              "      <td>Peru</td>\n",
              "      <td>Argentina</td>\n",
              "      <td>0</td>\n",
              "      <td>1</td>\n",
              "      <td>FIFA World Cup qualification</td>\n",
              "      <td>1993</td>\n",
              "      <td>70</td>\n",
              "      <td>5.0</td>\n",
              "      <td>Lose</td>\n",
              "    </tr>\n",
              "    <tr>\n",
              "      <th>2</th>\n",
              "      <td>Uruguay</td>\n",
              "      <td>Ecuador</td>\n",
              "      <td>0</td>\n",
              "      <td>0</td>\n",
              "      <td>FIFA World Cup qualification</td>\n",
              "      <td>1993</td>\n",
              "      <td>22</td>\n",
              "      <td>35.0</td>\n",
              "      <td>Draw</td>\n",
              "    </tr>\n",
              "    <tr>\n",
              "      <th>3</th>\n",
              "      <td>Venezuela</td>\n",
              "      <td>Brazil</td>\n",
              "      <td>1</td>\n",
              "      <td>5</td>\n",
              "      <td>FIFA World Cup qualification</td>\n",
              "      <td>1993</td>\n",
              "      <td>94</td>\n",
              "      <td>8.0</td>\n",
              "      <td>Lose</td>\n",
              "    </tr>\n",
              "    <tr>\n",
              "      <th>4</th>\n",
              "      <td>Senegal</td>\n",
              "      <td>Zambia</td>\n",
              "      <td>0</td>\n",
              "      <td>0</td>\n",
              "      <td>FIFA World Cup qualification</td>\n",
              "      <td>1993</td>\n",
              "      <td>58</td>\n",
              "      <td>25.0</td>\n",
              "      <td>Draw</td>\n",
              "    </tr>\n",
              "  </tbody>\n",
              "</table>\n",
              "</div>"
            ],
            "text/plain": [
              "   home_team  away_team  home_score  ...  home_rank away_rank  status\n",
              "0   Colombia   Paraguay           0  ...         19      67.0    Draw\n",
              "1       Peru  Argentina           0  ...         70       5.0    Lose\n",
              "2    Uruguay    Ecuador           0  ...         22      35.0    Draw\n",
              "3  Venezuela     Brazil           1  ...         94       8.0    Lose\n",
              "4    Senegal     Zambia           0  ...         58      25.0    Draw\n",
              "\n",
              "[5 rows x 9 columns]"
            ]
          },
          "metadata": {
            "tags": []
          },
          "execution_count": 341
        }
      ]
    },
    {
      "cell_type": "code",
      "metadata": {
        "id": "sSh_FwvszL_1",
        "colab_type": "code",
        "colab": {
          "base_uri": "https://localhost:8080/",
          "height": 185
        },
        "outputId": "3f5749e1-bf9c-4735-ec3a-08414902a96c"
      },
      "source": [
        "new_df.isnull().sum()"
      ],
      "execution_count": 342,
      "outputs": [
        {
          "output_type": "execute_result",
          "data": {
            "text/plain": [
              "home_team        0\n",
              "away_team        0\n",
              "home_score       0\n",
              "away_score       0\n",
              "tournament       0\n",
              "year             0\n",
              "home_rank        0\n",
              "away_rank     1773\n",
              "status           0\n",
              "dtype: int64"
            ]
          },
          "metadata": {
            "tags": []
          },
          "execution_count": 342
        }
      ]
    },
    {
      "cell_type": "code",
      "metadata": {
        "id": "IUCBGK83zhXa",
        "colab_type": "code",
        "colab": {
          "base_uri": "https://localhost:8080/",
          "height": 185
        },
        "outputId": "ad40ab2d-b111-4663-c6d6-b675edb905d5"
      },
      "source": [
        "# I'll Fill missing values with mean column values since they're a lot and might make me lose valuable data\n",
        "new_df.fillna(new_df.mean(), inplace=True)\n",
        "# Count the number of NaN values in each column\n",
        "print(new_df.isnull().sum())"
      ],
      "execution_count": 343,
      "outputs": [
        {
          "output_type": "stream",
          "text": [
            "home_team     0\n",
            "away_team     0\n",
            "home_score    0\n",
            "away_score    0\n",
            "tournament    0\n",
            "year          0\n",
            "home_rank     0\n",
            "away_rank     0\n",
            "status        0\n",
            "dtype: int64\n"
          ],
          "name": "stdout"
        }
      ]
    },
    {
      "cell_type": "code",
      "metadata": {
        "id": "8SpiRNX7ngic",
        "colab_type": "code",
        "colab": {
          "base_uri": "https://localhost:8080/",
          "height": 185
        },
        "outputId": "71c192b7-f473-415f-cd67-b07869de74e5"
      },
      "source": [
        "new_df.dtypes"
      ],
      "execution_count": 344,
      "outputs": [
        {
          "output_type": "execute_result",
          "data": {
            "text/plain": [
              "home_team      object\n",
              "away_team      object\n",
              "home_score      int64\n",
              "away_score      int64\n",
              "tournament     object\n",
              "year            int64\n",
              "home_rank       int64\n",
              "away_rank     float64\n",
              "status         object\n",
              "dtype: object"
            ]
          },
          "metadata": {
            "tags": []
          },
          "execution_count": 344
        }
      ]
    },
    {
      "cell_type": "markdown",
      "metadata": {
        "id": "IMB5YR6nvsPX",
        "colab_type": "text"
      },
      "source": [
        "# Exploratory Analysis"
      ]
    },
    {
      "cell_type": "code",
      "metadata": {
        "id": "2uhxMf0Eoc9s",
        "colab_type": "code",
        "colab": {
          "base_uri": "https://localhost:8080/",
          "height": 296
        },
        "outputId": "8ca66f04-4e5d-47f3-9193-c584dbadaeed"
      },
      "source": [
        "#Since status will be one of of our main variables, I did a plotting just to see it's distribution\n",
        "\n",
        "sns.countplot(new_df['status'], color='blue',saturation=0.5)\n",
        "plt.xlabel('Status')\n",
        "plt.ylabel('Count')"
      ],
      "execution_count": 345,
      "outputs": [
        {
          "output_type": "execute_result",
          "data": {
            "text/plain": [
              "Text(0, 0.5, 'Count')"
            ]
          },
          "metadata": {
            "tags": []
          },
          "execution_count": 345
        },
        {
          "output_type": "display_data",
          "data": {
            "image/png": "[encoded data removed]",
            "text/plain": [
              "<Figure size 432x288 with 1 Axes>"
            ]
          },
          "metadata": {
            "tags": [],
            "needs_background": "light"
          }
        }
      ]
    },
    {
      "cell_type": "code",
      "metadata": {
        "id": "FKkuQ51xkhvg",
        "colab_type": "code",
        "colab": {
          "base_uri": "https://localhost:8080/",
          "height": 84
        },
        "outputId": "35bd1d93-1c4d-4bb5-89b0-81708c558e47"
      },
      "source": [
        "new_df.status.value_counts()"
      ],
      "execution_count": 346,
      "outputs": [
        {
          "output_type": "execute_result",
          "data": {
            "text/plain": [
              "Win     9076\n",
              "Lose    5186\n",
              "Draw    4539\n",
              "Name: status, dtype: int64"
            ]
          },
          "metadata": {
            "tags": []
          },
          "execution_count": 346
        }
      ]
    },
    {
      "cell_type": "markdown",
      "metadata": {
        "id": "-HF7Y4hdvRy_",
        "colab_type": "text"
      },
      "source": [
        "Most of the games ended up in wins for the home team."
      ]
    },
    {
      "cell_type": "code",
      "metadata": {
        "id": "YebDkmMywNTX",
        "colab_type": "code",
        "colab": {
          "base_uri": "https://localhost:8080/",
          "height": 195
        },
        "outputId": "114c2afb-c60e-4507-8fcf-4aca8e536422"
      },
      "source": [
        "new_df.corr()"
      ],
      "execution_count": 347,
      "outputs": [
        {
          "output_type": "execute_result",
          "data": {
            "text/html": [
              "<div>\n",
              "<style scoped>\n",
              "    .dataframe tbody tr th:only-of-type {\n",
              "        vertical-align: middle;\n",
              "    }\n",
              "\n",
              "    .dataframe tbody tr th {\n",
              "        vertical-align: top;\n",
              "    }\n",
              "\n",
              "    .dataframe thead th {\n",
              "        text-align: right;\n",
              "    }\n",
              "</style>\n",
              "<table border=\"1\" class=\"dataframe\">\n",
              "  <thead>\n",
              "    <tr style=\"text-align: right;\">\n",
              "      <th></th>\n",
              "      <th>home_score</th>\n",
              "      <th>away_score</th>\n",
              "      <th>year</th>\n",
              "      <th>home_rank</th>\n",
              "      <th>away_rank</th>\n",
              "    </tr>\n",
              "  </thead>\n",
              "  <tbody>\n",
              "    <tr>\n",
              "      <th>home_score</th>\n",
              "      <td>1.000000</td>\n",
              "      <td>-0.159298</td>\n",
              "      <td>-0.039610</td>\n",
              "      <td>-0.110571</td>\n",
              "      <td>0.294824</td>\n",
              "    </tr>\n",
              "    <tr>\n",
              "      <th>away_score</th>\n",
              "      <td>-0.159298</td>\n",
              "      <td>1.000000</td>\n",
              "      <td>-0.007905</td>\n",
              "      <td>0.214722</td>\n",
              "      <td>-0.170168</td>\n",
              "    </tr>\n",
              "    <tr>\n",
              "      <th>year</th>\n",
              "      <td>-0.039610</td>\n",
              "      <td>-0.007905</td>\n",
              "      <td>1.000000</td>\n",
              "      <td>0.104008</td>\n",
              "      <td>0.099258</td>\n",
              "    </tr>\n",
              "    <tr>\n",
              "      <th>home_rank</th>\n",
              "      <td>-0.110571</td>\n",
              "      <td>0.214722</td>\n",
              "      <td>0.104008</td>\n",
              "      <td>1.000000</td>\n",
              "      <td>0.443969</td>\n",
              "    </tr>\n",
              "    <tr>\n",
              "      <th>away_rank</th>\n",
              "      <td>0.294824</td>\n",
              "      <td>-0.170168</td>\n",
              "      <td>0.099258</td>\n",
              "      <td>0.443969</td>\n",
              "      <td>1.000000</td>\n",
              "    </tr>\n",
              "  </tbody>\n",
              "</table>\n",
              "</div>"
            ],
            "text/plain": [
              "            home_score  away_score      year  home_rank  away_rank\n",
              "home_score    1.000000   -0.159298 -0.039610  -0.110571   0.294824\n",
              "away_score   -0.159298    1.000000 -0.007905   0.214722  -0.170168\n",
              "year         -0.039610   -0.007905  1.000000   0.104008   0.099258\n",
              "home_rank    -0.110571    0.214722  0.104008   1.000000   0.443969\n",
              "away_rank     0.294824   -0.170168  0.099258   0.443969   1.000000"
            ]
          },
          "metadata": {
            "tags": []
          },
          "execution_count": 347
        }
      ]
    },
    {
      "cell_type": "code",
      "metadata": {
        "id": "AU29NK9VwNh_",
        "colab_type": "code",
        "colab": {
          "base_uri": "https://localhost:8080/",
          "height": 615
        },
        "outputId": "21282a80-3027-48dc-c23c-d6662247684c"
      },
      "source": [
        "#A plot of frequency distribution\n",
        "col_names = ['home_rank', 'away_rank']\n",
        "fig, ax = plt.subplots(len(col_names), figsize=(5,10))\n",
        "\n",
        "for i, col_val in enumerate(col_names):\n",
        "  sns.distplot(new_df[col_val], hist=True, ax=ax[i])\n",
        "  ax[i].set_title('Frequency distribution of '+col_val, fontsize=10)\n",
        "  ax[i].set_xlabel(col_val, fontsize=6)\n",
        "  ax[i].set_ylabel('count', fontsize=6)"
      ],
      "execution_count": 348,
      "outputs": [
        {
          "output_type": "display_data",
          "data": {
            "image/png": "[encoded data removed]",
            "text/plain": [
              "<Figure size 360x720 with 2 Axes>"
            ]
          },
          "metadata": {
            "tags": [],
            "needs_background": "light"
          }
        }
      ]
    },
    {
      "cell_type": "markdown",
      "metadata": {
        "id": "UWzUAiv-PY46",
        "colab_type": "text"
      },
      "source": [
        "\n",
        "\n",
        "> Measures of central tendency\n",
        "\n"
      ]
    },
    {
      "cell_type": "code",
      "metadata": {
        "id": "0Y3uVpj3wN2v",
        "colab_type": "code",
        "colab": {
          "base_uri": "https://localhost:8080/",
          "height": 34
        },
        "outputId": "ca7e3fb4-7a05-4e10-846d-3ffc1fb4e816"
      },
      "source": [
        "new_df['home_score'].mean()"
      ],
      "execution_count": 349,
      "outputs": [
        {
          "output_type": "execute_result",
          "data": {
            "text/plain": [
              "1.6179990426041169"
            ]
          },
          "metadata": {
            "tags": []
          },
          "execution_count": 349
        }
      ]
    },
    {
      "cell_type": "code",
      "metadata": {
        "id": "ZRTnuC3DwOB9",
        "colab_type": "code",
        "colab": {
          "base_uri": "https://localhost:8080/",
          "height": 34
        },
        "outputId": "0fbbcb63-6a6d-4eb2-e9d4-24646539fbed"
      },
      "source": [
        "new_df['away_score'].mean()"
      ],
      "execution_count": 350,
      "outputs": [
        {
          "output_type": "execute_result",
          "data": {
            "text/plain": [
              "1.0705281633955641"
            ]
          },
          "metadata": {
            "tags": []
          },
          "execution_count": 350
        }
      ]
    },
    {
      "cell_type": "markdown",
      "metadata": {
        "id": "wZuROBg2PvCn",
        "colab_type": "text"
      },
      "source": [
        "Most of the scores were 1 but the home team had hire mean scores"
      ]
    },
    {
      "cell_type": "markdown",
      "metadata": {
        "id": "8FkzBgVu1MVv",
        "colab_type": "text"
      },
      "source": [
        "# Implementing the Solution"
      ]
    },
    {
      "cell_type": "code",
      "metadata": {
        "id": "BIDqgz_bxFLy",
        "colab_type": "code",
        "colab": {
          "base_uri": "https://localhost:8080/",
          "height": 195
        },
        "outputId": "5cff4957-d481-4d88-bbcd-e4f06a961ee3"
      },
      "source": [
        "#Converting the string data types to values so that we could use them in modelling\n",
        "from sklearn.preprocessing import LabelEncoder\n",
        "en = LabelEncoder()\n",
        "\n",
        "new_df['home_team'] = en.fit_transform(new_df['home_team'])\n",
        "new_df['away_team'] = en.fit_transform(new_df['away_team'])\n",
        "\n",
        "new_df['tournament'] = en.fit_transform(new_df['tournament'])\n",
        "new_df['year'] = en.fit_transform(new_df['year'])\n",
        "\n",
        "new_df.head()"
      ],
      "execution_count": 351,
      "outputs": [
        {
          "output_type": "execute_result",
          "data": {
            "text/html": [
              "<div>\n",
              "<style scoped>\n",
              "    .dataframe tbody tr th:only-of-type {\n",
              "        vertical-align: middle;\n",
              "    }\n",
              "\n",
              "    .dataframe tbody tr th {\n",
              "        vertical-align: top;\n",
              "    }\n",
              "\n",
              "    .dataframe thead th {\n",
              "        text-align: right;\n",
              "    }\n",
              "</style>\n",
              "<table border=\"1\" class=\"dataframe\">\n",
              "  <thead>\n",
              "    <tr style=\"text-align: right;\">\n",
              "      <th></th>\n",
              "      <th>home_team</th>\n",
              "      <th>away_team</th>\n",
              "      <th>home_score</th>\n",
              "      <th>away_score</th>\n",
              "      <th>tournament</th>\n",
              "      <th>year</th>\n",
              "      <th>home_rank</th>\n",
              "      <th>away_rank</th>\n",
              "      <th>status</th>\n",
              "    </tr>\n",
              "  </thead>\n",
              "  <tbody>\n",
              "    <tr>\n",
              "      <th>0</th>\n",
              "      <td>41</td>\n",
              "      <td>161</td>\n",
              "      <td>0</td>\n",
              "      <td>0</td>\n",
              "      <td>27</td>\n",
              "      <td>0</td>\n",
              "      <td>19</td>\n",
              "      <td>67.0</td>\n",
              "      <td>Draw</td>\n",
              "    </tr>\n",
              "    <tr>\n",
              "      <th>1</th>\n",
              "      <td>138</td>\n",
              "      <td>8</td>\n",
              "      <td>0</td>\n",
              "      <td>1</td>\n",
              "      <td>27</td>\n",
              "      <td>0</td>\n",
              "      <td>70</td>\n",
              "      <td>5.0</td>\n",
              "      <td>Lose</td>\n",
              "    </tr>\n",
              "    <tr>\n",
              "      <th>2</th>\n",
              "      <td>184</td>\n",
              "      <td>63</td>\n",
              "      <td>0</td>\n",
              "      <td>0</td>\n",
              "      <td>27</td>\n",
              "      <td>0</td>\n",
              "      <td>22</td>\n",
              "      <td>35.0</td>\n",
              "      <td>Draw</td>\n",
              "    </tr>\n",
              "    <tr>\n",
              "      <th>3</th>\n",
              "      <td>187</td>\n",
              "      <td>29</td>\n",
              "      <td>1</td>\n",
              "      <td>5</td>\n",
              "      <td>27</td>\n",
              "      <td>0</td>\n",
              "      <td>94</td>\n",
              "      <td>8.0</td>\n",
              "      <td>Lose</td>\n",
              "    </tr>\n",
              "    <tr>\n",
              "      <th>4</th>\n",
              "      <td>152</td>\n",
              "      <td>231</td>\n",
              "      <td>0</td>\n",
              "      <td>0</td>\n",
              "      <td>27</td>\n",
              "      <td>0</td>\n",
              "      <td>58</td>\n",
              "      <td>25.0</td>\n",
              "      <td>Draw</td>\n",
              "    </tr>\n",
              "  </tbody>\n",
              "</table>\n",
              "</div>"
            ],
            "text/plain": [
              "   home_team  away_team  home_score  ...  home_rank  away_rank  status\n",
              "0         41        161           0  ...         19       67.0    Draw\n",
              "1        138          8           0  ...         70        5.0    Lose\n",
              "2        184         63           0  ...         22       35.0    Draw\n",
              "3        187         29           1  ...         94        8.0    Lose\n",
              "4        152        231           0  ...         58       25.0    Draw\n",
              "\n",
              "[5 rows x 9 columns]"
            ]
          },
          "metadata": {
            "tags": []
          },
          "execution_count": 351
        }
      ]
    },
    {
      "cell_type": "markdown",
      "metadata": {
        "id": "4y24iPuAw2KG",
        "colab_type": "text"
      },
      "source": [
        "## Checking for multicollinearity"
      ]
    },
    {
      "cell_type": "code",
      "metadata": {
        "id": "fFl4yuA-xk0t",
        "colab_type": "code",
        "colab": {}
      },
      "source": [
        "#Columns to be used for polynomial regression are:\n",
        "#home_rank, away_rank, tournament, home_score, away_score\n",
        "df4 = new_df[['home_score', 'tournament', 'home_rank', 'away_rank']]"
      ],
      "execution_count": 352,
      "outputs": []
    },
    {
      "cell_type": "code",
      "metadata": {
        "id": "R_RVT5XNw8p0",
        "colab_type": "code",
        "colab": {
          "base_uri": "https://localhost:8080/",
          "height": 136
        },
        "outputId": "916a1efc-5197-4855-f23f-66e6d569ad6c"
      },
      "source": [
        "# Removing the serial and home_score columns, we want to focus on our independent variables only.\n",
        "independent_only = df4.drop(columns=['home_score'])\n",
        "\n",
        "# Let's display the correlations between the variables\n",
        "correlations = independent_only.corr()\n",
        "\n",
        "correlations"
      ],
      "execution_count": 353,
      "outputs": [
        {
          "output_type": "execute_result",
          "data": {
            "text/html": [
              "<div>\n",
              "<style scoped>\n",
              "    .dataframe tbody tr th:only-of-type {\n",
              "        vertical-align: middle;\n",
              "    }\n",
              "\n",
              "    .dataframe tbody tr th {\n",
              "        vertical-align: top;\n",
              "    }\n",
              "\n",
              "    .dataframe thead th {\n",
              "        text-align: right;\n",
              "    }\n",
              "</style>\n",
              "<table border=\"1\" class=\"dataframe\">\n",
              "  <thead>\n",
              "    <tr style=\"text-align: right;\">\n",
              "      <th></th>\n",
              "      <th>tournament</th>\n",
              "      <th>home_rank</th>\n",
              "      <th>away_rank</th>\n",
              "    </tr>\n",
              "  </thead>\n",
              "  <tbody>\n",
              "    <tr>\n",
              "      <th>tournament</th>\n",
              "      <td>1.000000</td>\n",
              "      <td>-0.148431</td>\n",
              "      <td>-0.150899</td>\n",
              "    </tr>\n",
              "    <tr>\n",
              "      <th>home_rank</th>\n",
              "      <td>-0.148431</td>\n",
              "      <td>1.000000</td>\n",
              "      <td>0.443969</td>\n",
              "    </tr>\n",
              "    <tr>\n",
              "      <th>away_rank</th>\n",
              "      <td>-0.150899</td>\n",
              "      <td>0.443969</td>\n",
              "      <td>1.000000</td>\n",
              "    </tr>\n",
              "  </tbody>\n",
              "</table>\n",
              "</div>"
            ],
            "text/plain": [
              "            tournament  home_rank  away_rank\n",
              "tournament    1.000000  -0.148431  -0.150899\n",
              "home_rank    -0.148431   1.000000   0.443969\n",
              "away_rank    -0.150899   0.443969   1.000000"
            ]
          },
          "metadata": {
            "tags": []
          },
          "execution_count": 353
        }
      ]
    },
    {
      "cell_type": "code",
      "metadata": {
        "id": "ce1-m6now9C9",
        "colab_type": "code",
        "colab": {
          "base_uri": "https://localhost:8080/",
          "height": 136
        },
        "outputId": "fd6a39db-97f9-455c-9bea-a3b421b4a521"
      },
      "source": [
        "#Creating VIF for each independent variable\n",
        "pd.DataFrame(np.linalg.inv(correlations.values), index = correlations.index, columns=correlations.columns)"
      ],
      "execution_count": 354,
      "outputs": [
        {
          "output_type": "execute_result",
          "data": {
            "text/html": [
              "<div>\n",
              "<style scoped>\n",
              "    .dataframe tbody tr th:only-of-type {\n",
              "        vertical-align: middle;\n",
              "    }\n",
              "\n",
              "    .dataframe tbody tr th {\n",
              "        vertical-align: top;\n",
              "    }\n",
              "\n",
              "    .dataframe thead th {\n",
              "        text-align: right;\n",
              "    }\n",
              "</style>\n",
              "<table border=\"1\" class=\"dataframe\">\n",
              "  <thead>\n",
              "    <tr style=\"text-align: right;\">\n",
              "      <th></th>\n",
              "      <th>tournament</th>\n",
              "      <th>home_rank</th>\n",
              "      <th>away_rank</th>\n",
              "    </tr>\n",
              "  </thead>\n",
              "  <tbody>\n",
              "    <tr>\n",
              "      <th>tournament</th>\n",
              "      <td>1.032024</td>\n",
              "      <td>0.104677</td>\n",
              "      <td>0.109258</td>\n",
              "    </tr>\n",
              "    <tr>\n",
              "      <th>home_rank</th>\n",
              "      <td>0.104677</td>\n",
              "      <td>1.256115</td>\n",
              "      <td>-0.541880</td>\n",
              "    </tr>\n",
              "    <tr>\n",
              "      <th>away_rank</th>\n",
              "      <td>0.109258</td>\n",
              "      <td>-0.541880</td>\n",
              "      <td>1.257065</td>\n",
              "    </tr>\n",
              "  </tbody>\n",
              "</table>\n",
              "</div>"
            ],
            "text/plain": [
              "            tournament  home_rank  away_rank\n",
              "tournament    1.032024   0.104677   0.109258\n",
              "home_rank     0.104677   1.256115  -0.541880\n",
              "away_rank     0.109258  -0.541880   1.257065"
            ]
          },
          "metadata": {
            "tags": []
          },
          "execution_count": 354
        }
      ]
    },
    {
      "cell_type": "markdown",
      "metadata": {
        "id": "KC5hWTaCn5rh",
        "colab_type": "text"
      },
      "source": [
        "\n",
        "\n",
        "> The VIF score for each variable is found alongside the downwards sloping diagonal. tournament has a score of 1.03, home_rank has a score of 1.256 while away_rank has a score of 1.257\n",
        "\n",
        "\n",
        "> Away_rank has the highest VIF score so let's see how the VIF scores improve if we remove it\n",
        "\n",
        "\n",
        "\n",
        "\n"
      ]
    },
    {
      "cell_type": "code",
      "metadata": {
        "id": "XBAHTHdOzG5Q",
        "colab_type": "code",
        "colab": {
          "base_uri": "https://localhost:8080/",
          "height": 106
        },
        "outputId": "de38af1a-0e08-451a-e787-277bae84c61b"
      },
      "source": [
        "revised = independent_only.drop(columns=['away_rank'])\n",
        "\n",
        "correlations = revised.corr()\n",
        "pd.DataFrame(np.linalg.inv(correlations.values), index = correlations.index, columns=correlations.columns)\n",
        "\n"
      ],
      "execution_count": 355,
      "outputs": [
        {
          "output_type": "execute_result",
          "data": {
            "text/html": [
              "<div>\n",
              "<style scoped>\n",
              "    .dataframe tbody tr th:only-of-type {\n",
              "        vertical-align: middle;\n",
              "    }\n",
              "\n",
              "    .dataframe tbody tr th {\n",
              "        vertical-align: top;\n",
              "    }\n",
              "\n",
              "    .dataframe thead th {\n",
              "        text-align: right;\n",
              "    }\n",
              "</style>\n",
              "<table border=\"1\" class=\"dataframe\">\n",
              "  <thead>\n",
              "    <tr style=\"text-align: right;\">\n",
              "      <th></th>\n",
              "      <th>tournament</th>\n",
              "      <th>home_rank</th>\n",
              "    </tr>\n",
              "  </thead>\n",
              "  <tbody>\n",
              "    <tr>\n",
              "      <th>tournament</th>\n",
              "      <td>1.022528</td>\n",
              "      <td>0.151774</td>\n",
              "    </tr>\n",
              "    <tr>\n",
              "      <th>home_rank</th>\n",
              "      <td>0.151774</td>\n",
              "      <td>1.022528</td>\n",
              "    </tr>\n",
              "  </tbody>\n",
              "</table>\n",
              "</div>"
            ],
            "text/plain": [
              "            tournament  home_rank\n",
              "tournament    1.022528   0.151774\n",
              "home_rank     0.151774   1.022528"
            ]
          },
          "metadata": {
            "tags": []
          },
          "execution_count": 355
        }
      ]
    },
    {
      "cell_type": "markdown",
      "metadata": {
        "id": "AC6fwpWXzPlU",
        "colab_type": "text"
      },
      "source": [
        "\n",
        "\n",
        "> home_rank has the most significant drop indicating that it had a collinear relation with away_rank\n",
        "\n"
      ]
    },
    {
      "cell_type": "code",
      "metadata": {
        "id": "Ub9hf5vk3799",
        "colab_type": "code",
        "colab": {}
      },
      "source": [
        "from sklearn import metrics\n",
        "from sklearn.model_selection import train_test_split\n",
        "from sklearn.linear_model import LinearRegression\n",
        "\n",
        "X = revised.values\n",
        "y = df4['home_score'].values\n",
        "\n",
        "X_train, X_test, home_train, home_test = train_test_split(X, y, test_size=0.2, random_state=0)\n",
        "\n",
        "regressor = LinearRegression()\n",
        "regressor.fit(X_train, admit_train)\n",
        "\n",
        "# This is our prediction for admission based on our model\n",
        "home_predict = regressor.predict(X_test)"
      ],
      "execution_count": 356,
      "outputs": []
    },
    {
      "cell_type": "code",
      "metadata": {
        "id": "_857jal3w9ST",
        "colab_type": "code",
        "colab": {
          "base_uri": "https://localhost:8080/",
          "height": 284
        },
        "outputId": "0b87c31e-1b05-4650-d27d-b9b09bcb9265"
      },
      "source": [
        "# We now create the residual by substracting the test value from the predicted \n",
        "# value for each row in our dataset\n",
        "\n",
        "residuals = np.subtract(home_predict, home_test)\n",
        "\n",
        "# Let's describe our residual:\n",
        "pd.DataFrame(residuals).describe()\n",
        "\n",
        "#residuals.mean()"
      ],
      "execution_count": 357,
      "outputs": [
        {
          "output_type": "execute_result",
          "data": {
            "text/html": [
              "<div>\n",
              "<style scoped>\n",
              "    .dataframe tbody tr th:only-of-type {\n",
              "        vertical-align: middle;\n",
              "    }\n",
              "\n",
              "    .dataframe tbody tr th {\n",
              "        vertical-align: top;\n",
              "    }\n",
              "\n",
              "    .dataframe thead th {\n",
              "        text-align: right;\n",
              "    }\n",
              "</style>\n",
              "<table border=\"1\" class=\"dataframe\">\n",
              "  <thead>\n",
              "    <tr style=\"text-align: right;\">\n",
              "      <th></th>\n",
              "      <th>0</th>\n",
              "    </tr>\n",
              "  </thead>\n",
              "  <tbody>\n",
              "    <tr>\n",
              "      <th>count</th>\n",
              "      <td>3761.000000</td>\n",
              "    </tr>\n",
              "    <tr>\n",
              "      <th>mean</th>\n",
              "      <td>-0.013050</td>\n",
              "    </tr>\n",
              "    <tr>\n",
              "      <th>std</th>\n",
              "      <td>1.692388</td>\n",
              "    </tr>\n",
              "    <tr>\n",
              "      <th>min</th>\n",
              "      <td>-20.380451</td>\n",
              "    </tr>\n",
              "    <tr>\n",
              "      <th>25%</th>\n",
              "      <td>-0.528988</td>\n",
              "    </tr>\n",
              "    <tr>\n",
              "      <th>50%</th>\n",
              "      <td>0.460157</td>\n",
              "    </tr>\n",
              "    <tr>\n",
              "      <th>75%</th>\n",
              "      <td>1.234501</td>\n",
              "    </tr>\n",
              "    <tr>\n",
              "      <th>max</th>\n",
              "      <td>1.928502</td>\n",
              "    </tr>\n",
              "  </tbody>\n",
              "</table>\n",
              "</div>"
            ],
            "text/plain": [
              "                 0\n",
              "count  3761.000000\n",
              "mean     -0.013050\n",
              "std       1.692388\n",
              "min     -20.380451\n",
              "25%      -0.528988\n",
              "50%       0.460157\n",
              "75%       1.234501\n",
              "max       1.928502"
            ]
          },
          "metadata": {
            "tags": []
          },
          "execution_count": 357
        }
      ]
    },
    {
      "cell_type": "markdown",
      "metadata": {
        "id": "egZHa58i0Ae_",
        "colab_type": "text"
      },
      "source": [
        "\n",
        "\n",
        "> Our min and max for the residual are high. Our mean on the other hand is close to 0, indicating that we tend to be fairly correct, although slightly over estimating chances by, on average, 1.3%\n",
        "\n"
      ]
    },
    {
      "cell_type": "markdown",
      "metadata": {
        "id": "oi5t3Tg7wdsY",
        "colab_type": "text"
      },
      "source": [
        "## Polynomial Approach"
      ]
    },
    {
      "cell_type": "markdown",
      "metadata": {
        "id": "yEvUBTnlwlPf",
        "colab_type": "text"
      },
      "source": [
        "\n",
        "\n",
        "> 1: Predict how many goals the home team scores.\n",
        "\n"
      ]
    },
    {
      "cell_type": "code",
      "metadata": {
        "id": "nHcTaXtnw0i8",
        "colab_type": "code",
        "colab": {}
      },
      "source": [
        "#We can try to predict the home_score given the home rank\n",
        "from sklearn.preprocessing import PolynomialFeatures\n",
        "\n",
        "from sklearn.model_selection import train_test_split\n",
        "\n",
        "# Import LinearRegression method from sklearn linear_model library\n",
        "from sklearn.linear_model import LinearRegression"
      ],
      "execution_count": 358,
      "outputs": []
    },
    {
      "cell_type": "code",
      "metadata": {
        "id": "KTwFHYdlydQM",
        "colab_type": "code",
        "colab": {
          "base_uri": "https://localhost:8080/",
          "height": 402
        },
        "outputId": "8459fe1b-684a-4735-fe3d-0318f94fabd7"
      },
      "source": [
        "df5 = df4[['home_score', 'home_rank']]\n",
        "df5"
      ],
      "execution_count": 359,
      "outputs": [
        {
          "output_type": "execute_result",
          "data": {
            "text/html": [
              "<div>\n",
              "<style scoped>\n",
              "    .dataframe tbody tr th:only-of-type {\n",
              "        vertical-align: middle;\n",
              "    }\n",
              "\n",
              "    .dataframe tbody tr th {\n",
              "        vertical-align: top;\n",
              "    }\n",
              "\n",
              "    .dataframe thead th {\n",
              "        text-align: right;\n",
              "    }\n",
              "</style>\n",
              "<table border=\"1\" class=\"dataframe\">\n",
              "  <thead>\n",
              "    <tr style=\"text-align: right;\">\n",
              "      <th></th>\n",
              "      <th>home_score</th>\n",
              "      <th>home_rank</th>\n",
              "    </tr>\n",
              "  </thead>\n",
              "  <tbody>\n",
              "    <tr>\n",
              "      <th>0</th>\n",
              "      <td>0</td>\n",
              "      <td>19</td>\n",
              "    </tr>\n",
              "    <tr>\n",
              "      <th>1</th>\n",
              "      <td>0</td>\n",
              "      <td>70</td>\n",
              "    </tr>\n",
              "    <tr>\n",
              "      <th>2</th>\n",
              "      <td>0</td>\n",
              "      <td>22</td>\n",
              "    </tr>\n",
              "    <tr>\n",
              "      <th>3</th>\n",
              "      <td>1</td>\n",
              "      <td>94</td>\n",
              "    </tr>\n",
              "    <tr>\n",
              "      <th>4</th>\n",
              "      <td>0</td>\n",
              "      <td>58</td>\n",
              "    </tr>\n",
              "    <tr>\n",
              "      <th>...</th>\n",
              "      <td>...</td>\n",
              "      <td>...</td>\n",
              "    </tr>\n",
              "    <tr>\n",
              "      <th>18796</th>\n",
              "      <td>0</td>\n",
              "      <td>27</td>\n",
              "    </tr>\n",
              "    <tr>\n",
              "      <th>18797</th>\n",
              "      <td>1</td>\n",
              "      <td>55</td>\n",
              "    </tr>\n",
              "    <tr>\n",
              "      <th>18798</th>\n",
              "      <td>0</td>\n",
              "      <td>12</td>\n",
              "    </tr>\n",
              "    <tr>\n",
              "      <th>18799</th>\n",
              "      <td>4</td>\n",
              "      <td>7</td>\n",
              "    </tr>\n",
              "    <tr>\n",
              "      <th>18800</th>\n",
              "      <td>2</td>\n",
              "      <td>14</td>\n",
              "    </tr>\n",
              "  </tbody>\n",
              "</table>\n",
              "<p>18801 rows × 2 columns</p>\n",
              "</div>"
            ],
            "text/plain": [
              "       home_score  home_rank\n",
              "0               0         19\n",
              "1               0         70\n",
              "2               0         22\n",
              "3               1         94\n",
              "4               0         58\n",
              "...           ...        ...\n",
              "18796           0         27\n",
              "18797           1         55\n",
              "18798           0         12\n",
              "18799           4          7\n",
              "18800           2         14\n",
              "\n",
              "[18801 rows x 2 columns]"
            ]
          },
          "metadata": {
            "tags": []
          },
          "execution_count": 359
        }
      ]
    },
    {
      "cell_type": "code",
      "metadata": {
        "id": "K6VKARgIw04R",
        "colab_type": "code",
        "colab": {}
      },
      "source": [
        "X = df5.iloc[:, 1:2].values\n",
        "y = df5.iloc[:, 0:1].values\n"
      ],
      "execution_count": 360,
      "outputs": []
    },
    {
      "cell_type": "code",
      "metadata": {
        "id": "apLMUDaAyWGh",
        "colab_type": "code",
        "colab": {
          "base_uri": "https://localhost:8080/",
          "height": 34
        },
        "outputId": "dd87753a-b249-4448-f9ed-5ba4938a72b6"
      },
      "source": [
        "# Split the dataset into train and test sets\n",
        "X_train, y_train, X_test, y_test = train_test_split(X,y, test_size = 0.2, random_state=0)\n",
        "\n",
        "# Fit polynomial Regression to the dataset\n",
        "poly_reg = PolynomialFeatures(degree = 2) \n",
        "X_poly = poly_reg.fit_transform(X)\n",
        "\n",
        "pol_reg = LinearRegression()\n",
        "pol_reg.fit(X_poly, y)\n"
      ],
      "execution_count": 363,
      "outputs": [
        {
          "output_type": "execute_result",
          "data": {
            "text/plain": [
              "LinearRegression(copy_X=True, fit_intercept=True, n_jobs=None, normalize=False)"
            ]
          },
          "metadata": {
            "tags": []
          },
          "execution_count": 363
        }
      ]
    },
    {
      "cell_type": "code",
      "metadata": {
        "id": "zLC4wH2MHQCY",
        "colab_type": "code",
        "colab": {
          "base_uri": "https://localhost:8080/",
          "height": 34
        },
        "outputId": "8ef9646e-89dd-4fbc-c091-c08f4f9eb836"
      },
      "source": [
        "# Predict using Polynomial Regression\n",
        "poly_pred = pol_reg.predict(poly_reg.fit_transform([[6.5]]))\n",
        "print('Polynomial prediction: %d' %poly_pred)"
      ],
      "execution_count": 364,
      "outputs": [
        {
          "output_type": "stream",
          "text": [
            "Polynomial prediction: 1\n"
          ],
          "name": "stdout"
        }
      ]
    },
    {
      "cell_type": "markdown",
      "metadata": {
        "id": "VEcypj3gJD8F",
        "colab_type": "text"
      },
      "source": [
        "\n",
        "\n",
        "> The accuracy of the model is 100%. There is most likely a case of overfitting\n",
        "\n"
      ]
    },
    {
      "cell_type": "markdown",
      "metadata": {
        "id": "_bMFbnEcNa7P",
        "colab_type": "text"
      },
      "source": [
        "\n",
        "\n",
        "> Cross validating \n",
        "\n"
      ]
    },
    {
      "cell_type": "code",
      "metadata": {
        "id": "KcIIWpE857uA",
        "colab_type": "code",
        "colab": {
          "base_uri": "https://localhost:8080/",
          "height": 67
        },
        "outputId": "0aed117f-ad22-4799-d053-260ac407f829"
      },
      "source": [
        "from sklearn.model_selection import LeaveOneOut\n",
        "\n",
        "# We will use the same 4 independent variables for this\n",
        "X = df5[['home_rank']].values\n",
        "y = df5['home_score'].values\n",
        "\n",
        "folds = LeaveOneOut()\n",
        "\n",
        "# note that if you have a KFold object, you can figure out how many folds you set up \n",
        "# for it using get_n_splits\n",
        "print('we are using ' +str(folds.get_n_splits(X)) + ' folds')\n",
        "\n",
        "# We now create and assess 5 models based on the folds we created.\n",
        "RMSES = [] # We will use this array to keep track of the RSME of each model\n",
        "count = 0 # This will just help \n",
        "for train_index, test_index in folds.split(X):\n",
        "  \n",
        "  # set up the train and test based on the split determined by KFold\n",
        "  # With 5 folds, we will end up with 80% of our data in the training set, and 20% in the test set, just as above\n",
        "  X_train, X_test = X[train_index], X[test_index]\n",
        "  y_train, y_test = y[train_index], y[test_index]\n",
        "  \n",
        "  # fit a model accordingly\n",
        "  regressor = LinearRegression()  \n",
        "  regressor.fit(X_train, y_train)\n",
        "  \n",
        "  # assess the accuraccy of the model\n",
        "  y_pred = regressor.predict(X_test)\n",
        "  \n",
        "  rmse_value =  np.sqrt(metrics.mean_squared_error(y_test, y_pred))\n",
        "  RMSES.append(rmse_value)\n",
        "  \n",
        "  count = count + 1\n",
        "print('trained ' + str(count) + ' models' )\n",
        "np.mean(RMSES)"
      ],
      "execution_count": 366,
      "outputs": [
        {
          "output_type": "stream",
          "text": [
            "we are using 18801 folds\n",
            "trained 18801 models\n"
          ],
          "name": "stdout"
        },
        {
          "output_type": "execute_result",
          "data": {
            "text/plain": [
              "1.1903770378487766"
            ]
          },
          "metadata": {
            "tags": []
          },
          "execution_count": 366
        }
      ]
    },
    {
      "cell_type": "markdown",
      "metadata": {
        "id": "Ptz7GQHKJ3RO",
        "colab_type": "text"
      },
      "source": [
        "\n",
        "\n",
        "> 2. Predict how many goals the away team scores\n",
        "\n"
      ]
    },
    {
      "cell_type": "code",
      "metadata": {
        "id": "0CzGTRSSJ86M",
        "colab_type": "code",
        "colab": {}
      },
      "source": [
        "#We can try to predict the away_score given the home rank\n",
        "from sklearn.preprocessing import PolynomialFeatures\n",
        "\n",
        "from sklearn.model_selection import train_test_split\n",
        "\n",
        "# Import LinearRegression method from sklearn linear_model library\n",
        "from sklearn.linear_model import LinearRegression"
      ],
      "execution_count": 367,
      "outputs": []
    },
    {
      "cell_type": "code",
      "metadata": {
        "id": "0FATN4EgJ94k",
        "colab_type": "code",
        "colab": {
          "base_uri": "https://localhost:8080/",
          "height": 402
        },
        "outputId": "b8c69173-6e35-4040-c336-c68c1825d1f6"
      },
      "source": [
        "df6 = new_df[['away_score', 'away_rank']]\n",
        "df6"
      ],
      "execution_count": 368,
      "outputs": [
        {
          "output_type": "execute_result",
          "data": {
            "text/html": [
              "<div>\n",
              "<style scoped>\n",
              "    .dataframe tbody tr th:only-of-type {\n",
              "        vertical-align: middle;\n",
              "    }\n",
              "\n",
              "    .dataframe tbody tr th {\n",
              "        vertical-align: top;\n",
              "    }\n",
              "\n",
              "    .dataframe thead th {\n",
              "        text-align: right;\n",
              "    }\n",
              "</style>\n",
              "<table border=\"1\" class=\"dataframe\">\n",
              "  <thead>\n",
              "    <tr style=\"text-align: right;\">\n",
              "      <th></th>\n",
              "      <th>away_score</th>\n",
              "      <th>away_rank</th>\n",
              "    </tr>\n",
              "  </thead>\n",
              "  <tbody>\n",
              "    <tr>\n",
              "      <th>0</th>\n",
              "      <td>0</td>\n",
              "      <td>67.0</td>\n",
              "    </tr>\n",
              "    <tr>\n",
              "      <th>1</th>\n",
              "      <td>1</td>\n",
              "      <td>5.0</td>\n",
              "    </tr>\n",
              "    <tr>\n",
              "      <th>2</th>\n",
              "      <td>0</td>\n",
              "      <td>35.0</td>\n",
              "    </tr>\n",
              "    <tr>\n",
              "      <th>3</th>\n",
              "      <td>5</td>\n",
              "      <td>8.0</td>\n",
              "    </tr>\n",
              "    <tr>\n",
              "      <th>4</th>\n",
              "      <td>0</td>\n",
              "      <td>25.0</td>\n",
              "    </tr>\n",
              "    <tr>\n",
              "      <th>...</th>\n",
              "      <td>...</td>\n",
              "      <td>...</td>\n",
              "    </tr>\n",
              "    <tr>\n",
              "      <th>18796</th>\n",
              "      <td>1</td>\n",
              "      <td>16.0</td>\n",
              "    </tr>\n",
              "    <tr>\n",
              "      <th>18797</th>\n",
              "      <td>2</td>\n",
              "      <td>21.0</td>\n",
              "    </tr>\n",
              "    <tr>\n",
              "      <th>18798</th>\n",
              "      <td>1</td>\n",
              "      <td>3.0</td>\n",
              "    </tr>\n",
              "    <tr>\n",
              "      <th>18799</th>\n",
              "      <td>3</td>\n",
              "      <td>5.0</td>\n",
              "    </tr>\n",
              "    <tr>\n",
              "      <th>18800</th>\n",
              "      <td>1</td>\n",
              "      <td>4.0</td>\n",
              "    </tr>\n",
              "  </tbody>\n",
              "</table>\n",
              "<p>18801 rows × 2 columns</p>\n",
              "</div>"
            ],
            "text/plain": [
              "       away_score  away_rank\n",
              "0               0       67.0\n",
              "1               1        5.0\n",
              "2               0       35.0\n",
              "3               5        8.0\n",
              "4               0       25.0\n",
              "...           ...        ...\n",
              "18796           1       16.0\n",
              "18797           2       21.0\n",
              "18798           1        3.0\n",
              "18799           3        5.0\n",
              "18800           1        4.0\n",
              "\n",
              "[18801 rows x 2 columns]"
            ]
          },
          "metadata": {
            "tags": []
          },
          "execution_count": 368
        }
      ]
    },
    {
      "cell_type": "code",
      "metadata": {
        "id": "UKw6kEbcKJQ1",
        "colab_type": "code",
        "colab": {}
      },
      "source": [
        "X = df6.iloc[:, 1:2].values\n",
        "y = df6.iloc[:, 0:1].values"
      ],
      "execution_count": 369,
      "outputs": []
    },
    {
      "cell_type": "code",
      "metadata": {
        "id": "CfHz_m46KOw-",
        "colab_type": "code",
        "colab": {}
      },
      "source": [
        "# Split the dataset into train and test sets\n",
        "X_train, y_train, X_test, y_test = train_test_split(X,y, test_size = 0.2, random_state=0)\n",
        "\n",
        "# Fit polynomial Regression to the dataset\n",
        "poly_reg = PolynomialFeatures(degree = 2) \n",
        "X_poly = poly_reg.fit_transform(X)\n",
        "\n",
        "pol_reg = LinearRegression()\n",
        "pol_reg.fit(X_poly, y)\n",
        "\n",
        "#Making preedictions\n",
        "y_pred = regressor.predict(X_test)"
      ],
      "execution_count": 370,
      "outputs": []
    },
    {
      "cell_type": "code",
      "metadata": {
        "id": "urmoFebeKU5V",
        "colab_type": "code",
        "colab": {
          "base_uri": "https://localhost:8080/",
          "height": 34
        },
        "outputId": "20f6d658-2cc3-45db-b912-79b08c4cc98b"
      },
      "source": [
        "# Predict using Polynomial Regression\n",
        "poly_pred = pol_reg.predict(poly_reg.fit_transform([[6.5]]))\n",
        "print('Polynomial prediction: %d' %poly_pred)"
      ],
      "execution_count": 371,
      "outputs": [
        {
          "output_type": "stream",
          "text": [
            "Polynomial prediction: 1\n"
          ],
          "name": "stdout"
        }
      ]
    },
    {
      "cell_type": "markdown",
      "metadata": {
        "id": "QCJVDCqeKrkQ",
        "colab_type": "text"
      },
      "source": [
        "\n",
        "\n",
        "> Cross validating the model\n",
        "\n"
      ]
    },
    {
      "cell_type": "code",
      "metadata": {
        "id": "RHsnvAgxKmGK",
        "colab_type": "code",
        "colab": {
          "base_uri": "https://localhost:8080/",
          "height": 286
        },
        "outputId": "5351209b-f50d-485e-98e1-813e59c58eec"
      },
      "source": [
        "from sklearn.model_selection import KFold\n",
        "\n",
        "# We will use the same 4 independent variables for this\n",
        "X = df6[['away_rank']].values\n",
        "y = df6['away_score'].values\n",
        "\n",
        "folds = KFold(n_splits=5)\n",
        "\n",
        "# note that if you have a KFold object, you can figure out how many folds you set up \n",
        "# for it using get_n_splits\n",
        "print('we are using ' +str(folds.get_n_splits(X)) + ' folds')\n",
        "\n",
        "# We now create and assess 5 models based on the folds we created.\n",
        "RMSES = [] # We will use this array to keep track of the RSME of each model\n",
        "count = 1 # This will just help \n",
        "for train_index, test_index in folds.split(X):\n",
        "  print('\\nTraining model ' + str(count))\n",
        "  \n",
        "  # set up the train and test based on the split determined by KFold\n",
        "  # With 5 folds, we will end up with 80% of our data in the training set, and 20% in the test set, just as above\n",
        "  X_train, X_test = X[train_index], X[test_index]\n",
        "  y_train, y_test = y[train_index], y[test_index]\n",
        "  \n",
        "  # fit a model accordingly\n",
        "  regressor = LinearRegression()  \n",
        "  regressor.fit(X_train, y_train)\n",
        "  \n",
        "  # assess the accuraccy of the model\n",
        "  y_pred = regressor.predict(X_test)\n",
        "  \n",
        "  rmse_value =  np.sqrt(metrics.mean_squared_error(y_test, y_pred))\n",
        "  RMSES.append(rmse_value)\n",
        "  \n",
        "  print('Model ' + str(count) + ' Root Mean Squared Error:',rmse_value)\n",
        "  count = count + 1"
      ],
      "execution_count": 372,
      "outputs": [
        {
          "output_type": "stream",
          "text": [
            "we are using 5 folds\n",
            "\n",
            "Training model 1\n",
            "Model 1 Root Mean Squared Error: 1.2716322210110722\n",
            "\n",
            "Training model 2\n",
            "Model 2 Root Mean Squared Error: 1.252058251726776\n",
            "\n",
            "Training model 3\n",
            "Model 3 Root Mean Squared Error: 1.301817063300011\n",
            "\n",
            "Training model 4\n",
            "Model 4 Root Mean Squared Error: 1.1890982345343561\n",
            "\n",
            "Training model 5\n",
            "Model 5 Root Mean Squared Error: 1.1814561869331994\n"
          ],
          "name": "stdout"
        }
      ]
    },
    {
      "cell_type": "code",
      "metadata": {
        "id": "5n3fXDOrKxYn",
        "colab_type": "code",
        "colab": {
          "base_uri": "https://localhost:8080/",
          "height": 67
        },
        "outputId": "949f745f-49b6-49f7-d8e1-3b5ed1af1bc0"
      },
      "source": [
        "from sklearn.model_selection import LeaveOneOut\n",
        "\n",
        "# We will use the same 4 independent variables for this\n",
        "X = df5[['home_rank']].values\n",
        "y = df5['home_score'].values\n",
        "\n",
        "folds = LeaveOneOut()\n",
        "\n",
        "# note that if you have a KFold object, you can figure out how many folds you set up \n",
        "# for it using get_n_splits\n",
        "print('we are using ' +str(folds.get_n_splits(X)) + ' folds')\n",
        "\n",
        "# We now create and assess 5 models based on the folds we created.\n",
        "RMSES = [] # We will use this array to keep track of the RSME of each model\n",
        "count = 0 # This will just help \n",
        "for train_index, test_index in folds.split(X):\n",
        "  \n",
        "  # set up the train and test based on the split determined by KFold\n",
        "  # With 5 folds, we will end up with 80% of our data in the training set, and 20% in the test set, just as above\n",
        "  X_train, X_test = X[train_index], X[test_index]\n",
        "  y_train, y_test = y[train_index], y[test_index]\n",
        "  \n",
        "  # fit a model accordingly\n",
        "  regressor = LinearRegression()  \n",
        "  regressor.fit(X_train, y_train)\n",
        "  \n",
        "  # assess the accuraccy of the model\n",
        "  y_pred = regressor.predict(X_test)\n",
        "  \n",
        "  rmse_value =  np.sqrt(metrics.mean_squared_error(y_test, y_pred))\n",
        "  RMSES.append(rmse_value)\n",
        "  \n",
        "  count = count + 1\n",
        "print('trained ' + str(count) + ' models' )\n",
        "np.mean(RMSES)"
      ],
      "execution_count": 373,
      "outputs": [
        {
          "output_type": "stream",
          "text": [
            "we are using 18801 folds\n",
            "trained 18801 models\n"
          ],
          "name": "stdout"
        },
        {
          "output_type": "execute_result",
          "data": {
            "text/plain": [
              "1.1903770378487766"
            ]
          },
          "metadata": {
            "tags": []
          },
          "execution_count": 373
        }
      ]
    },
    {
      "cell_type": "markdown",
      "metadata": {
        "id": "_2fainJZwQ15",
        "colab_type": "text"
      },
      "source": [
        "## Logistic Approach"
      ]
    },
    {
      "cell_type": "code",
      "metadata": {
        "id": "ew1oEkM4Nsq8",
        "colab_type": "code",
        "colab": {
          "base_uri": "https://localhost:8080/",
          "height": 195
        },
        "outputId": "d666490a-0af8-4560-ad5f-a9fbfb0796ce"
      },
      "source": [
        "#Converting the status column to numerical values\n",
        "status = pd.get_dummies(new_df['status'],drop_first=True)\n",
        "status.head()"
      ],
      "execution_count": 374,
      "outputs": [
        {
          "output_type": "execute_result",
          "data": {
            "text/html": [
              "<div>\n",
              "<style scoped>\n",
              "    .dataframe tbody tr th:only-of-type {\n",
              "        vertical-align: middle;\n",
              "    }\n",
              "\n",
              "    .dataframe tbody tr th {\n",
              "        vertical-align: top;\n",
              "    }\n",
              "\n",
              "    .dataframe thead th {\n",
              "        text-align: right;\n",
              "    }\n",
              "</style>\n",
              "<table border=\"1\" class=\"dataframe\">\n",
              "  <thead>\n",
              "    <tr style=\"text-align: right;\">\n",
              "      <th></th>\n",
              "      <th>Lose</th>\n",
              "      <th>Win</th>\n",
              "    </tr>\n",
              "  </thead>\n",
              "  <tbody>\n",
              "    <tr>\n",
              "      <th>0</th>\n",
              "      <td>0</td>\n",
              "      <td>0</td>\n",
              "    </tr>\n",
              "    <tr>\n",
              "      <th>1</th>\n",
              "      <td>1</td>\n",
              "      <td>0</td>\n",
              "    </tr>\n",
              "    <tr>\n",
              "      <th>2</th>\n",
              "      <td>0</td>\n",
              "      <td>0</td>\n",
              "    </tr>\n",
              "    <tr>\n",
              "      <th>3</th>\n",
              "      <td>1</td>\n",
              "      <td>0</td>\n",
              "    </tr>\n",
              "    <tr>\n",
              "      <th>4</th>\n",
              "      <td>0</td>\n",
              "      <td>0</td>\n",
              "    </tr>\n",
              "  </tbody>\n",
              "</table>\n",
              "</div>"
            ],
            "text/plain": [
              "   Lose  Win\n",
              "0     0    0\n",
              "1     1    0\n",
              "2     0    0\n",
              "3     1    0\n",
              "4     0    0"
            ]
          },
          "metadata": {
            "tags": []
          },
          "execution_count": 374
        }
      ]
    },
    {
      "cell_type": "code",
      "metadata": {
        "id": "QvjdB8MhOBy9",
        "colab_type": "code",
        "colab": {
          "base_uri": "https://localhost:8080/",
          "height": 195
        },
        "outputId": "d3bd635a-b45f-4d0a-ff20-98a037af2a39"
      },
      "source": [
        "# label encoding\n",
        "# Import label encoder \n",
        "from sklearn import preprocessing \n",
        "\n",
        "# label_encoder object knows how to understand word labels. \n",
        "label_encoder = preprocessing.LabelEncoder() \n",
        "\n",
        "# Encode labels in column 'species'. \n",
        "new_df['status']= label_encoder.fit_transform(new_df['status']) \n",
        "\n",
        "new_df['status'].unique()\n",
        "\n",
        "#Previewing the dataset\n",
        "new_df.head()"
      ],
      "execution_count": 375,
      "outputs": [
        {
          "output_type": "execute_result",
          "data": {
            "text/html": [
              "<div>\n",
              "<style scoped>\n",
              "    .dataframe tbody tr th:only-of-type {\n",
              "        vertical-align: middle;\n",
              "    }\n",
              "\n",
              "    .dataframe tbody tr th {\n",
              "        vertical-align: top;\n",
              "    }\n",
              "\n",
              "    .dataframe thead th {\n",
              "        text-align: right;\n",
              "    }\n",
              "</style>\n",
              "<table border=\"1\" class=\"dataframe\">\n",
              "  <thead>\n",
              "    <tr style=\"text-align: right;\">\n",
              "      <th></th>\n",
              "      <th>home_team</th>\n",
              "      <th>away_team</th>\n",
              "      <th>home_score</th>\n",
              "      <th>away_score</th>\n",
              "      <th>tournament</th>\n",
              "      <th>year</th>\n",
              "      <th>home_rank</th>\n",
              "      <th>away_rank</th>\n",
              "      <th>status</th>\n",
              "    </tr>\n",
              "  </thead>\n",
              "  <tbody>\n",
              "    <tr>\n",
              "      <th>0</th>\n",
              "      <td>41</td>\n",
              "      <td>161</td>\n",
              "      <td>0</td>\n",
              "      <td>0</td>\n",
              "      <td>27</td>\n",
              "      <td>0</td>\n",
              "      <td>19</td>\n",
              "      <td>67.0</td>\n",
              "      <td>0</td>\n",
              "    </tr>\n",
              "    <tr>\n",
              "      <th>1</th>\n",
              "      <td>138</td>\n",
              "      <td>8</td>\n",
              "      <td>0</td>\n",
              "      <td>1</td>\n",
              "      <td>27</td>\n",
              "      <td>0</td>\n",
              "      <td>70</td>\n",
              "      <td>5.0</td>\n",
              "      <td>1</td>\n",
              "    </tr>\n",
              "    <tr>\n",
              "      <th>2</th>\n",
              "      <td>184</td>\n",
              "      <td>63</td>\n",
              "      <td>0</td>\n",
              "      <td>0</td>\n",
              "      <td>27</td>\n",
              "      <td>0</td>\n",
              "      <td>22</td>\n",
              "      <td>35.0</td>\n",
              "      <td>0</td>\n",
              "    </tr>\n",
              "    <tr>\n",
              "      <th>3</th>\n",
              "      <td>187</td>\n",
              "      <td>29</td>\n",
              "      <td>1</td>\n",
              "      <td>5</td>\n",
              "      <td>27</td>\n",
              "      <td>0</td>\n",
              "      <td>94</td>\n",
              "      <td>8.0</td>\n",
              "      <td>1</td>\n",
              "    </tr>\n",
              "    <tr>\n",
              "      <th>4</th>\n",
              "      <td>152</td>\n",
              "      <td>231</td>\n",
              "      <td>0</td>\n",
              "      <td>0</td>\n",
              "      <td>27</td>\n",
              "      <td>0</td>\n",
              "      <td>58</td>\n",
              "      <td>25.0</td>\n",
              "      <td>0</td>\n",
              "    </tr>\n",
              "  </tbody>\n",
              "</table>\n",
              "</div>"
            ],
            "text/plain": [
              "   home_team  away_team  home_score  ...  home_rank  away_rank  status\n",
              "0         41        161           0  ...         19       67.0       0\n",
              "1        138          8           0  ...         70        5.0       1\n",
              "2        184         63           0  ...         22       35.0       0\n",
              "3        187         29           1  ...         94        8.0       1\n",
              "4        152        231           0  ...         58       25.0       0\n",
              "\n",
              "[5 rows x 9 columns]"
            ]
          },
          "metadata": {
            "tags": []
          },
          "execution_count": 375
        }
      ]
    },
    {
      "cell_type": "code",
      "metadata": {
        "id": "P2BwuhKUamyN",
        "colab_type": "code",
        "colab": {}
      },
      "source": [
        "# Splitting our dataset\n",
        "#\n",
        "X = new_df.drop(\"status\",axis=1)\n",
        "y = new_df[\"status\"]\n",
        "\n",
        "from sklearn.model_selection import train_test_split\n",
        "X_train, X_test, y_train, y_test = train_test_split(X, y, test_size = .3, random_state=25)\n",
        "\n",
        "# Fitting our model\n",
        "# \n",
        "from sklearn.linear_model import LogisticRegression\n",
        "\n",
        "LogReg = LogisticRegression()\n",
        "LogReg.fit(X_train, y_train)\n",
        "\n",
        "# Using our model to make a prediction\n",
        "#\n",
        "y_pred = LogReg.predict(X_test)"
      ],
      "execution_count": 377,
      "outputs": []
    },
    {
      "cell_type": "code",
      "metadata": {
        "id": "lA9THzBMbOqk",
        "colab_type": "code",
        "colab": {
          "base_uri": "https://localhost:8080/",
          "height": 67
        },
        "outputId": "1694f63c-6029-4ac0-976e-326dc4a857f8"
      },
      "source": [
        "# Evaluating the model\n",
        "#\n",
        "from sklearn.metrics import confusion_matrix\n",
        "confusion_matrix = confusion_matrix(y_test, y_pred)\n",
        "confusion_matrix"
      ],
      "execution_count": 378,
      "outputs": [
        {
          "output_type": "execute_result",
          "data": {
            "text/plain": [
              "array([[1355,   19,    0],\n",
              "       [  22, 1532,    0],\n",
              "       [   2,    0, 2711]])"
            ]
          },
          "metadata": {
            "tags": []
          },
          "execution_count": 378
        }
      ]
    },
    {
      "cell_type": "code",
      "metadata": {
        "id": "roCGdsAcbYJL",
        "colab_type": "code",
        "colab": {
          "base_uri": "https://localhost:8080/",
          "height": 235
        },
        "outputId": "995d7a6a-c467-4dcb-eb3e-a5beef033f11"
      },
      "source": [
        "from sklearn.metrics import accuracy_score\n",
        "accuracy_score =(y_test, y_pred)\n",
        "accuracy_score"
      ],
      "execution_count": 379,
      "outputs": [
        {
          "output_type": "execute_result",
          "data": {
            "text/plain": [
              "(509      2\n",
              " 17290    2\n",
              " 10198    2\n",
              " 14717    2\n",
              " 9106     2\n",
              "         ..\n",
              " 17446    1\n",
              " 8856     2\n",
              " 7396     0\n",
              " 15692    0\n",
              " 7813     2\n",
              " Name: status, Length: 5641, dtype: int64,\n",
              " array([2, 2, 2, ..., 0, 0, 2], dtype=int64))"
            ]
          },
          "metadata": {
            "tags": []
          },
          "execution_count": 379
        }
      ]
    },
    {
      "cell_type": "code",
      "metadata": {
        "id": "6OfINotHbvKh",
        "colab_type": "code",
        "colab": {
          "base_uri": "https://localhost:8080/",
          "height": 34
        },
        "outputId": "c45f4aff-9e39-440b-fd85-54a8316dca78"
      },
      "source": [
        "accuracy_score= (1355+1532+2711)/len(y_pred)\n",
        "accuracy_score"
      ],
      "execution_count": 380,
      "outputs": [
        {
          "output_type": "execute_result",
          "data": {
            "text/plain": [
              "0.9923772380783549"
            ]
          },
          "metadata": {
            "tags": []
          },
          "execution_count": 380
        }
      ]
    },
    {
      "cell_type": "code",
      "metadata": {
        "id": "aUG_2LNWcmGw",
        "colab_type": "code",
        "colab": {
          "base_uri": "https://localhost:8080/",
          "height": 34
        },
        "outputId": "0f5ad83a-6328-40f9-c724-e8628d1d0ad7"
      },
      "source": [
        "# sklearn accuracy score\n",
        "print('Accuracy of logistic regression classifier on test set: {:.2f}'.format(LogReg.score(X_test, y_test)))"
      ],
      "execution_count": 381,
      "outputs": [
        {
          "output_type": "stream",
          "text": [
            "Accuracy of logistic regression classifier on test set: 0.99\n"
          ],
          "name": "stdout"
        }
      ]
    },
    {
      "cell_type": "markdown",
      "metadata": {
        "id": "MINLvLgAA0dV",
        "colab_type": "text"
      },
      "source": [
        "The model made 3 correct predictions of 1374, 1532 and 2711. It made no wrong prediction. The model gave an accuracy score of 99% and this is clearly a sign of overfitting and so we'll procede and perfom hyperparameter tuning to see if there'll be any change"
      ]
    },
    {
      "cell_type": "markdown",
      "metadata": {
        "id": "G8zhg6sBBNTg",
        "colab_type": "text"
      },
      "source": [
        "## Hyperparameter tuning"
      ]
    },
    {
      "cell_type": "markdown",
      "metadata": {
        "id": "juueoNMMBWVk",
        "colab_type": "text"
      },
      "source": [
        "\n",
        "\n",
        "> I'll use the random search since the dataset is big\n",
        "\n"
      ]
    },
    {
      "cell_type": "code",
      "metadata": {
        "id": "tf9LjA0YBRxr",
        "colab_type": "code",
        "colab": {}
      },
      "source": [
        "# Performing Data Preprocessing\n",
        "X = new_df.iloc[:, 0:8].values\n",
        "y = new_df.iloc[:, 8:9].values\n",
        "\n",
        "# We'll define a sampling distribution for each hyperparameter.\n",
        "\n",
        "from scipy.stats import randint as sp_randint\n",
        "param_dist = {\"max_depth\": [3, None],\n",
        "              \"max_features\": sp_randint(1, 11),\n",
        "              \"min_samples_split\": sp_randint(2, 11),\n",
        "              \"bootstrap\": [True, False],\n",
        "              \"criterion\": [\"gini\", \"entropy\"]}"
      ],
      "execution_count": 384,
      "outputs": []
    },
    {
      "cell_type": "code",
      "metadata": {
        "id": "lrfagiUAC_F4",
        "colab_type": "code",
        "colab": {}
      },
      "source": [
        "# Instantiating RandomizedSearchCV object \n",
        "\n",
        "from sklearn.model_selection import RandomizedSearchCV \n",
        "random_sr = RandomizedSearchCV(classifier, param_dist, cv = 5)"
      ],
      "execution_count": 385,
      "outputs": []
    },
    {
      "cell_type": "code",
      "metadata": {
        "id": "TC69ZuBiCS7i",
        "colab_type": "code",
        "colab": {
          "base_uri": "https://localhost:8080/",
          "height": 403
        },
        "outputId": "7ae838c0-0d81-45c2-cf8d-3166e2421378"
      },
      "source": [
        "# Calling the fit method\n",
        "\n",
        "random_sr.fit(X_train, y_train)"
      ],
      "execution_count": 386,
      "outputs": [
        {
          "output_type": "execute_result",
          "data": {
            "text/plain": [
              "RandomizedSearchCV(cv=5, error_score=nan,\n",
              "                   estimator=RandomForestClassifier(bootstrap=True,\n",
              "                                                    ccp_alpha=0.0,\n",
              "                                                    class_weight=None,\n",
              "                                                    criterion='gini',\n",
              "                                                    max_depth=None,\n",
              "                                                    max_features='auto',\n",
              "                                                    max_leaf_nodes=None,\n",
              "                                                    max_samples=None,\n",
              "                                                    min_impurity_decrease=0.0,\n",
              "                                                    min_impurity_split=None,\n",
              "                                                    min_samples_leaf=1,\n",
              "                                                    min_samples_split=2,\n",
              "                                                    min_weight_fraction_leaf=0.0,\n",
              "                                                    n_estimators=300,\n",
              "                                                    n_jobs...\n",
              "                   param_distributions={'bootstrap': [True, False],\n",
              "                                        'criterion': ['gini', 'entropy'],\n",
              "                                        'max_depth': [3, None],\n",
              "                                        'max_features': <scipy.stats._distn_infrastructure.rv_frozen object at 0x7f107a4a9b70>,\n",
              "                                        'min_samples_split': <scipy.stats._distn_infrastructure.rv_frozen object at 0x7f107a4a9ac8>},\n",
              "                   pre_dispatch='2*n_jobs', random_state=None, refit=True,\n",
              "                   return_train_score=False, scoring=None, verbose=0)"
            ]
          },
          "metadata": {
            "tags": []
          },
          "execution_count": 386
        }
      ]
    },
    {
      "cell_type": "code",
      "metadata": {
        "id": "dryoBdMHDLdv",
        "colab_type": "code",
        "colab": {
          "base_uri": "https://localhost:8080/",
          "height": 34
        },
        "outputId": "b9d66afd-449e-4976-ec13-02ce4bd77dfd"
      },
      "source": [
        "# Checking the parameters that return the highest accuracy\n",
        "\n",
        "best_parameters = random_sr.best_params_\n",
        "print(best_parameters)"
      ],
      "execution_count": 387,
      "outputs": [
        {
          "output_type": "stream",
          "text": [
            "{'bootstrap': True, 'criterion': 'entropy', 'max_depth': None, 'max_features': 5, 'min_samples_split': 2}\n"
          ],
          "name": "stdout"
        }
      ]
    },
    {
      "cell_type": "code",
      "metadata": {
        "id": "Hj8-N3x4DPvM",
        "colab_type": "code",
        "colab": {
          "base_uri": "https://localhost:8080/",
          "height": 34
        },
        "outputId": "b7403f3a-e2f9-4a1a-99e2-2813ab834371"
      },
      "source": [
        "# Finding the obtained accuracy\n",
        "best_result = random_sr.best_score_\n",
        "print(best_result)"
      ],
      "execution_count": 388,
      "outputs": [
        {
          "output_type": "stream",
          "text": [
            "0.999468085106383\n"
          ],
          "name": "stdout"
        }
      ]
    },
    {
      "cell_type": "markdown",
      "metadata": {
        "id": "pBt7r2tFEHyl",
        "colab_type": "text"
      },
      "source": [
        "\n",
        "\n",
        "> It still brings the 99% accuracy.\n",
        "\n"
      ]
    },
    {
      "cell_type": "markdown",
      "metadata": {
        "id": "9iRsodK8UxJY",
        "colab_type": "text"
      },
      "source": [
        "\n",
        "\n",
        "> Both the models bring a very high accuracy but the highest Polynomial regression has the higher accuracy. The study should be reviewed with other variables and see if the accuracy will be at around 80%.\n",
        "\n"
      ]
    },
    {
      "cell_type": "markdown",
      "metadata": {
        "id": "YxZNJ9v_2Bh6",
        "colab_type": "text"
      },
      "source": [
        "# Challenging the solution"
      ]
    },
    {
      "cell_type": "markdown",
      "metadata": {
        "id": "rpDYEjKe2F8L",
        "colab_type": "text"
      },
      "source": [
        "\n",
        "\n",
        "> The solution brought almost a perfect model which means that there could be changes that could be made. I could have maybe added the weighted points and previous points. Also, some factors such as injury on players should have been included.\n",
        "\n"
      ]
    },
    {
      "cell_type": "markdown",
      "metadata": {
        "id": "gr-IJtu52IiV",
        "colab_type": "text"
      },
      "source": [
        "# Follow up Questions"
      ]
    },
    {
      "cell_type": "markdown",
      "metadata": {
        "id": "_PrAPuRM2O59",
        "colab_type": "text"
      },
      "source": [
        "\n",
        "\n",
        "> a). Did we have the right data? Yes. Our data had sufficient number of columns and rows\n",
        "\n",
        "\n",
        "> b). Do we need other data to answer our questions? Yes. If we'd have data on the number of injuries per team maybe the model results would be different.\n",
        "\n",
        "\n",
        "> c). Did we have the right question? Yes. The questions were right and could be undertaken.\n",
        "\n",
        "\n",
        "\n",
        "\n",
        "\n"
      ]
    }
  ]
}